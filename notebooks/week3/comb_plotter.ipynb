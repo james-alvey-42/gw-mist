{
 "cells": [
  {
   "cell_type": "code",
   "execution_count": 1,
   "id": "ea2b276e",
   "metadata": {},
   "outputs": [],
   "source": [
    "### - import all the usual stuff - ###\n",
    "\n",
    "import sys\n",
    "sys.path.append('../../mist-base/GW')\n",
    "sys.path.append('../../mist-base/')\n",
    "sys.path.append('../../mist-base/utils')\n",
    "sys.path.append('../../')\n",
    "\n",
    "import gw150814_simulator as gs\n",
    "from gw150814_simulator import GW150814, defaults, GW150814_Additive\n",
    "# import module\n",
    "\n",
    "import torch\n",
    "torch.set_float32_matmul_precision('medium')\n",
    "import numpy as np\n",
    "import scipy\n",
    "from scipy.signal import welch\n",
    "import scipy.stats\n",
    "import pytorch_lightning as pl\n",
    "from collections import defaultdict\n",
    "from tqdm import tqdm\n",
    "import jax.numpy as jnp\n",
    "import plotfancy as pf\n",
    "pf.housestyle_rcparams()\n",
    "\n",
    "from gwosc.datasets import event_gps\n",
    "from gwpy.timeseries import TimeSeries\n",
    "\n",
    "from ipywidgets import interactive_output, VBox, HBox, FloatSlider, Checkbox, FloatLogSlider, FloatRangeSlider, FloatText, IntSlider\n",
    "import sounddevice as sd\n",
    "\n",
    "import matplotlib.pyplot as plt\n",
    "import matplotlib.ticker as ticker\n",
    "\n",
    "import os, sys\n",
    "\n",
    "from simulators.additive import Simulator_Additive\n",
    "from simulators.utils import *\n",
    "from utils.data import OnTheFlyDataModule, StoredDataModule\n",
    "from utils.module import CustomLossModule_withBounds, BCELossModule"
   ]
  },
  {
   "cell_type": "code",
   "execution_count": 5,
   "id": "f3f2d7d9",
   "metadata": {},
   "outputs": [],
   "source": [
    "### import the comb function ###\n",
    "from src.utils.comb import Comb\n",
    "from src.utils.comb2 import Comb2"
   ]
  },
  {
   "cell_type": "code",
   "execution_count": null,
   "id": "78fd1a56",
   "metadata": {},
   "outputs": [
    {
     "data": {
      "application/vnd.jupyter.widget-view+json": {
       "model_id": "063f8d22bed347b28a82a15fcef685f2",
       "version_major": 2,
       "version_minor": 0
      },
      "text/plain": [
       "VBox(children=(FloatSlider(value=25.0, description='df (Hz)', min=5.0, step=1.0), FloatSlider(value=50.0, desc…"
      ]
     },
     "metadata": {},
     "output_type": "display_data"
    }
   ],
   "source": [
    "gps = event_gps('GW150914')\n",
    "strain_data = TimeSeries.fetch_open_data('L1', int(gps)-512, int(gps)+512, cache=True)\n",
    "\n",
    "def plot_interactive_comb(df, f0, nf):\n",
    "\n",
    "    sample_rate = strain_data.sample_rate.value\n",
    "    base_for_comb = np.zeros(len(strain_data.value))\n",
    "\n",
    "    # global extras\n",
    "    # freqs, psd_comb, _, comb_timeseries, _, extras = Comb(\n",
    "    #     strain_data=base_for_comb,\n",
    "    #     sample_rate=sample_rate,\n",
    "    #     f0=f0,\n",
    "    #     df=df,\n",
    "    #     nf=int(nf),\n",
    "    #     amplitude=1e-21 \n",
    "    # )\n",
    "\n",
    "    psd_noise, psd_with_comb, freqs, comb_ts = Comb2(\n",
    "            sample_rate=sample_rate,\n",
    "            f0=f0,\n",
    "            df=df,\n",
    "            nf=nf,\n",
    "            amplitude_factor=1e4, # Make peaks very prominent for plotting\n",
    "            duration=4\n",
    "        )\n",
    "\n",
    "    ### --- Plotting --- ###\n",
    "    fig, (ax1, ax2) = plt.subplots(2, 1, figsize=(7, 7))\n",
    "    fig.suptitle(\"Interactive LIGO Comb Plotter\", fontsize=16)\n",
    "\n",
    "    background_psd = strain_data.psd(fftlength=4)\n",
    "    global grid\n",
    "    grid = np.linspace(np.max(freqs), np.min(freqs), len(extras[2]))\n",
    "    \n",
    "    # ax1.loglog(background_psd.frequencies, background_psd, label=\"LIGO Background Noise (L1)\", color='black', alpha=0.7)\n",
    "    # ax1.loglog(freqs, psd_comb, label=\"Injected Comb Signal\", color='red', lw=2)\n",
    "\n",
    "    ax1.loglog(freqs, psd_noise, label=\"LIGO Background Noise (L1)\", color='black', alpha=0.7)\n",
    "    ax1.loglog(freqs, psd_with_comb, label=\"Injected Comb Signal\", color='red', lw=2,zorder=-2)\n",
    "\n",
    "\n",
    "    ax1.set_title(\"Power Spectral Density\")\n",
    "    ax1.set_xlabel(\"Frequency (Hz)\")\n",
    "    ax1.set_ylabel(\"PSD (strain$^2$/Hz)\")\n",
    "    ax1.legend()\n",
    "    ax1.grid(True, which=\"both\", ls=\":\")\n",
    "    ax1.set_xlim(20, 1024)\n",
    "    ax1.set_ylim(1e-48, 1e-38)\n",
    "\n",
    "    # time_axis = np.arange(len(comb_timeseries)) / sample_rate\n",
    "    # ax2.plot(time_axis, comb_timeseries, label=\"Comb Timeseries\", color='blue')\n",
    "\n",
    "    ax2.plot(comb_ts)\n",
    "    ax2.set_title(\"Generated Comb Signal (Time Domain)\")\n",
    "    ax2.set_xlabel(\"Time (s)\")\n",
    "    ax2.set_ylabel(\"Strain\")\n",
    "    ax2.legend()\n",
    "    # ax2.set_xlim(0, 0.2) # Zoom in to see the waveform\n",
    "    \n",
    "    plt.tight_layout(rect=[0, 0.03, 1, 0.95])\n",
    "    pf.fix_plot([ax1,ax2])\n",
    "    plt.show()\n",
    "\n",
    "df_slider = FloatSlider(min=5, max=100, step=1, value=25, description='df (Hz)')\n",
    "f0_slider = FloatSlider(min=20, max=200, step=1, value=50, description='f0 (Hz)')\n",
    "nf_slider = IntSlider(min=1, max=50, step=1, value=10, description='nf (count)')\n",
    "\n",
    "interactive_plot = interactive_output(\n",
    "    plot_interactive_comb, \n",
    "    {'df': df_slider, 'f0': f0_slider, 'nf': nf_slider}\n",
    ")\n",
    "\n",
    "from IPython.display import display\n",
    "ui = VBox([df_slider, f0_slider, nf_slider, interactive_plot])\n",
    "display(ui)"
   ]
  },
  {
   "cell_type": "code",
   "execution_count": null,
   "id": "2bdc93b9",
   "metadata": {},
   "outputs": [
    {
     "data": {
      "text/plain": [
       "[array([0.+0.j, 0.+0.j, 0.+0.j, ..., 0.+0.j, 0.+0.j, 0.+0.j],\n",
       "       shape=(2097153,)),\n",
       " array([0.+0.j, 0.+0.j, 0.-0.j, ..., 0.+0.j, 0.+0.j, 0.+0.j],\n",
       "       shape=(2097153,)),\n",
       " array([0.+0.j, 0.+0.j, 0.+0.j, ..., 0.+0.j, 0.+0.j, 0.+0.j],\n",
       "       shape=(2097153,))]"
      ]
     },
     "execution_count": 16,
     "metadata": {},
     "output_type": "execute_result"
    }
   ],
   "source": [
    "extras"
   ]
  },
  {
   "cell_type": "code",
   "execution_count": null,
   "id": "fb220611",
   "metadata": {},
   "outputs": [
    {
     "data": {
      "text/plain": [
       "[<matplotlib.lines.Line2D at 0x326188a50>]"
      ]
     },
     "execution_count": 17,
     "metadata": {},
     "output_type": "execute_result"
    },
    {
     "data": {
      "image/png": "[encoded data removed]",
      "text/plain": [
       "<Figure size 640x480 with 1 Axes>"
      ]
     },
     "metadata": {},
     "output_type": "display_data"
    }
   ],
   "source": [
    "plt.loglog(grid,np.real(extras[2]))"
   ]
  },
  {
   "cell_type": "code",
   "execution_count": null,
   "id": "a1a9bc6c",
   "metadata": {},
   "outputs": [],
   "source": []
  }
 ],
 "metadata": {
  "kernelspec": {
   "display_name": "Python 3",
   "language": "python",
   "name": "python3"
  },
  "language_info": {
   "codemirror_mode": {
    "name": "ipython",
    "version": 3
   },
   "file_extension": ".py",
   "mimetype": "text/x-python",
   "name": "python",
   "nbconvert_exporter": "python",
   "pygments_lexer": "ipython3",
   "version": "3.13.1"
  }
 },
 "nbformat": 4,
 "nbformat_minor": 5
}
