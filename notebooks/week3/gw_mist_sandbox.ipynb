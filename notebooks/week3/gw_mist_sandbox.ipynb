{
 "cells": [
  {
   "cell_type": "code",
   "execution_count": 1,
   "id": "2ae4f31e-29a2-4155-a811-cf488b76852c",
   "metadata": {},
   "outputs": [],
   "source": [
    "import sys\n",
    "sys.path.append('../../mist-base/GW')\n",
    "sys.path.append('../../mist-base/')\n",
    "sys.path.append('../../mist-base/utils')\n",
    "\n",
    "import gw150814_simulator as gs\n",
    "from gw150814_simulator import GW150814, defaults, GW150814_Additive\n",
    "# import module\n",
    "\n",
    "import torch\n",
    "import numpy as np\n",
    "import scipy\n",
    "import scipy.stats\n",
    "import pytorch_lightning as pl\n",
    "from collections import defaultdict\n",
    "from tqdm import tqdm\n",
    "import plotfancy as pf\n",
    "pf.housestyle_rcparams()\n",
    "\n",
    "import matplotlib.pyplot as plt\n",
    "import matplotlib.ticker as ticker\n",
    "\n",
    "import os, sys\n",
    "\n",
    "from simulators.additive import Simulator_Additive\n",
    "from simulators.utils import *\n",
    "from utils.data import OnTheFlyDataModule, StoredDataModule\n",
    "from utils.module import CustomLossModule_withBounds, BCELossModule\n",
    "\n",
    "mycolors = ['#77aca2', '#ff004f', '#f98e08']\n",
    "device = torch.device('mps') if torch.backends.mps.is_available() else torch.device('cpu')\n"
   ]
  },
  {
   "cell_type": "code",
   "execution_count": 2,
   "id": "dc362766-cbe9-42b9-b07e-529743d8cf44",
   "metadata": {},
   "outputs": [
    {
     "name": "stdout",
     "output_type": "stream",
     "text": [
      "Loading data for H1 at GPS time 1126259462.4\n",
      "Loading PSD for H1 at GPS time 1126259462.4 [can take O(1 min)]\n",
      "Loading posterior samples from ../../mist-base/GW/GW150814_posterior_samples.npz\n"
     ]
    },
    {
     "name": "stderr",
     "output_type": "stream",
     "text": [
      "100%|██████████████████████████████████████| 1000/1000 [00:03<00:00, 297.92it/s]\n"
     ]
    }
   ],
   "source": [
    "default = gs.defaults\n",
    "default['posterior_samples_path'] = '../../mist-base/GW/GW150814_posterior_samples.npz'\n",
    "default['f_max']=250\n",
    "gw = gs.GW150814(settings=default)\n",
    "l = len(gw.generate_time_domain_waveform())\n",
    "s = 1000\n",
    "tdw = np.zeros([s,l])\n",
    "tdn = np.zeros([s,l])\n",
    "\n",
    "for i in tqdm(range(s)):\n",
    "    tdw[i] = gw.generate_time_domain_waveform()\n",
    "    tdn[i] = gw.generate_time_domain_noise()"
   ]
  },
  {
   "cell_type": "code",
   "execution_count": 3,
   "id": "e3e6d351-a17a-4193-a62b-198724810f0a",
   "metadata": {},
   "outputs": [
    {
     "name": "stdout",
     "output_type": "stream",
     "text": [
      "Loading data for H1 at GPS time 1126259462.4\n",
      "Loading PSD for H1 at GPS time 1126259462.4 [can take O(1 min)]\n",
      "Loading posterior samples from ../../mist-base/GW/GW150814_posterior_samples.npz\n"
     ]
    }
   ],
   "source": [
    "correlation_scales = torch.tensor([5]).int()\n",
    "gw150814_post = torch.tensor(tdw)\n",
    "gw150814_noise = torch.tensor(tdn)\n",
    "gw150814_samples = {'mu': gw150814_post, 'noise': gw150814_noise}\n",
    "simulator = GW150814_Additive(\n",
    "    gw150814_samples=gw150814_samples, \n",
    "    bounds=torch.tensor([1.05]), #1.2341, 0.5696, 0.3403]), \n",
    "    dtype=torch.float32,\n",
    "    correlation_scales = correlation_scales\n",
    ")\n",
    "times = simulator._process(simulator.times)\n",
    "Nbins = simulator.Nbins"
   ]
  },
  {
   "cell_type": "code",
   "execution_count": 4,
   "id": "88c88c24-15c0-4dbf-b657-0bc5901f2dca",
   "metadata": {},
   "outputs": [
    {
     "ename": "RuntimeError",
     "evalue": "The size of tensor a (16384) must match the size of tensor b (1000) at non-singleton dimension 1",
     "output_type": "error",
     "traceback": [
      "\u001b[0;31m---------------------------------------------------------------------------\u001b[0m",
      "\u001b[0;31mRuntimeError\u001b[0m                              Traceback (most recent call last)",
      "Cell \u001b[0;32mIn[4], line 1\u001b[0m\n\u001b[0;32m----> 1\u001b[0m samples \u001b[38;5;241m=\u001b[39m \u001b[43msimulator\u001b[49m\u001b[38;5;241;43m.\u001b[39;49m\u001b[43msample\u001b[49m\u001b[43m(\u001b[49m\u001b[38;5;241;43m500\u001b[39;49m\u001b[43m)\u001b[49m\n\u001b[1;32m      3\u001b[0m \u001b[38;5;66;03m# mu samples\u001b[39;00m\n\u001b[1;32m      4\u001b[0m plt\u001b[38;5;241m.\u001b[39mfigure(figsize\u001b[38;5;241m=\u001b[39m(\u001b[38;5;241m7\u001b[39m, \u001b[38;5;241m3\u001b[39m))\n",
      "File \u001b[0;32m~/Documents/cambridge/gw-mist/notebooks/week3/../../mist-base/GW/gw150814_simulator.py:389\u001b[0m, in \u001b[0;36mGW150814_Additive.sample\u001b[0;34m(self, Nsims, show_progress)\u001b[0m\n\u001b[1;32m    387\u001b[0m     samples_list \u001b[38;5;241m=\u001b[39m [\u001b[38;5;28mself\u001b[39m\u001b[38;5;241m.\u001b[39m_sample() \u001b[38;5;28;01mfor\u001b[39;00m _ \u001b[38;5;129;01min\u001b[39;00m tqdm(\u001b[38;5;28mrange\u001b[39m(Nsims))]\n\u001b[1;32m    388\u001b[0m \u001b[38;5;28;01melse\u001b[39;00m:  \n\u001b[0;32m--> 389\u001b[0m     samples_list \u001b[38;5;241m=\u001b[39m [\u001b[38;5;28;43mself\u001b[39;49m\u001b[38;5;241;43m.\u001b[39;49m\u001b[43m_sample\u001b[49m\u001b[43m(\u001b[49m\u001b[43m)\u001b[49m \u001b[38;5;28;01mfor\u001b[39;00m _ \u001b[38;5;129;01min\u001b[39;00m \u001b[38;5;28mrange\u001b[39m(Nsims)]\n\u001b[1;32m    390\u001b[0m samples_dict \u001b[38;5;241m=\u001b[39m defaultdict(\u001b[38;5;28mlist\u001b[39m)\n\u001b[1;32m    391\u001b[0m \u001b[38;5;28;01mfor\u001b[39;00m d \u001b[38;5;129;01min\u001b[39;00m samples_list:\n",
      "File \u001b[0;32m~/Documents/cambridge/gw-mist/notebooks/week3/../../mist-base/GW/gw150814_simulator.py:372\u001b[0m, in \u001b[0;36mGW150814_Additive._sample\u001b[0;34m(self)\u001b[0m\n\u001b[1;32m    370\u001b[0m x0 \u001b[38;5;241m=\u001b[39m \u001b[38;5;28mself\u001b[39m\u001b[38;5;241m.\u001b[39mget_x_H0(mu)\n\u001b[1;32m    371\u001b[0m ni \u001b[38;5;241m=\u001b[39m \u001b[38;5;28mself\u001b[39m\u001b[38;5;241m.\u001b[39mget_ni(x0)\n\u001b[0;32m--> 372\u001b[0m epsilon \u001b[38;5;241m=\u001b[39m \u001b[38;5;28;43mself\u001b[39;49m\u001b[38;5;241;43m.\u001b[39;49m\u001b[43mget_epsilon\u001b[49m\u001b[43m(\u001b[49m\u001b[43mni\u001b[49m\u001b[43m,\u001b[49m\u001b[43m \u001b[49m\u001b[43mx0\u001b[49m\u001b[43m)\u001b[49m\n\u001b[1;32m    373\u001b[0m cni \u001b[38;5;241m=\u001b[39m \u001b[38;5;28mself\u001b[39m\u001b[38;5;241m.\u001b[39mget_correlation(ni, epsilon)\n\u001b[1;32m    374\u001b[0m xi \u001b[38;5;241m=\u001b[39m \u001b[38;5;28mself\u001b[39m\u001b[38;5;241m.\u001b[39mget_x_Hi(x0, cni)\n",
      "File \u001b[0;32m~/Documents/cambridge/gw-mist/notebooks/week3/../../mist-base/GW/gw150814_simulator.py:344\u001b[0m, in \u001b[0;36mGW150814_Additive.get_epsilon\u001b[0;34m(self, ni, x)\u001b[0m\n\u001b[1;32m    342\u001b[0m     \u001b[38;5;28;01mreturn\u001b[39;00m (\u001b[38;5;241m2\u001b[39m \u001b[38;5;241m*\u001b[39m \u001b[38;5;28mself\u001b[39m\u001b[38;5;241m.\u001b[39mbounds \u001b[38;5;241m*\u001b[39m torch\u001b[38;5;241m.\u001b[39mrand(x\u001b[38;5;241m.\u001b[39mshape, generator\u001b[38;5;241m=\u001b[39m\u001b[38;5;28mself\u001b[39m\u001b[38;5;241m.\u001b[39mdistortion_torch_rng, device\u001b[38;5;241m=\u001b[39m\u001b[38;5;28mself\u001b[39m\u001b[38;5;241m.\u001b[39mdevice, dtype\u001b[38;5;241m=\u001b[39m\u001b[38;5;28mself\u001b[39m\u001b[38;5;241m.\u001b[39mdtype) \u001b[38;5;241m-\u001b[39m \u001b[38;5;28mself\u001b[39m\u001b[38;5;241m.\u001b[39mbounds) \u001b[38;5;241m*\u001b[39m ni\n\u001b[1;32m    343\u001b[0m \u001b[38;5;28;01melif\u001b[39;00m \u001b[38;5;28mself\u001b[39m\u001b[38;5;241m.\u001b[39mcorrelation_scales \u001b[38;5;129;01mis\u001b[39;00m \u001b[38;5;129;01mnot\u001b[39;00m \u001b[38;5;28;01mNone\u001b[39;00m \u001b[38;5;129;01mand\u001b[39;00m \u001b[38;5;28mlen\u001b[39m(\u001b[38;5;28mself\u001b[39m\u001b[38;5;241m.\u001b[39mbounds)\u001b[38;5;241m==\u001b[39m\u001b[38;5;28mlen\u001b[39m(\u001b[38;5;28mself\u001b[39m\u001b[38;5;241m.\u001b[39mcorrelation_scales):\n\u001b[0;32m--> 344\u001b[0m     \u001b[38;5;28;01mreturn\u001b[39;00m \u001b[43m(\u001b[49m\u001b[38;5;241;43m2\u001b[39;49m\u001b[43m \u001b[49m\u001b[38;5;241;43m*\u001b[39;49m\u001b[43m \u001b[49m\u001b[38;5;28;43mself\u001b[39;49m\u001b[38;5;241;43m.\u001b[39;49m\u001b[43mbounds\u001b[49m\u001b[38;5;241;43m.\u001b[39;49m\u001b[43munsqueeze\u001b[49m\u001b[43m(\u001b[49m\u001b[38;5;241;43m1\u001b[39;49m\u001b[43m)\u001b[49m\u001b[43m \u001b[49m\u001b[38;5;241;43m*\u001b[39;49m\u001b[43m \u001b[49m\u001b[43mtorch\u001b[49m\u001b[38;5;241;43m.\u001b[39;49m\u001b[43mrand\u001b[49m\u001b[43m(\u001b[49m\u001b[43mx\u001b[49m\u001b[38;5;241;43m.\u001b[39;49m\u001b[43mshape\u001b[49m\u001b[43m,\u001b[49m\u001b[43m \u001b[49m\u001b[43mgenerator\u001b[49m\u001b[38;5;241;43m=\u001b[39;49m\u001b[38;5;28;43mself\u001b[39;49m\u001b[38;5;241;43m.\u001b[39;49m\u001b[43mdistortion_torch_rng\u001b[49m\u001b[43m,\u001b[49m\u001b[43m \u001b[49m\u001b[43mdevice\u001b[49m\u001b[38;5;241;43m=\u001b[39;49m\u001b[38;5;28;43mself\u001b[39;49m\u001b[38;5;241;43m.\u001b[39;49m\u001b[43mdevice\u001b[49m\u001b[43m,\u001b[49m\u001b[43m \u001b[49m\u001b[43mdtype\u001b[49m\u001b[38;5;241;43m=\u001b[39;49m\u001b[38;5;28;43mself\u001b[39;49m\u001b[38;5;241;43m.\u001b[39;49m\u001b[43mdtype\u001b[49m\u001b[43m)\u001b[49m\u001b[38;5;241;43m.\u001b[39;49m\u001b[43munsqueeze\u001b[49m\u001b[43m(\u001b[49m\u001b[38;5;241;43m0\u001b[39;49m\u001b[43m)\u001b[49m\u001b[43m \u001b[49m\u001b[38;5;241;43m-\u001b[39;49m\u001b[43m \u001b[49m\u001b[38;5;28;43mself\u001b[39;49m\u001b[38;5;241;43m.\u001b[39;49m\u001b[43mbounds\u001b[49m\u001b[38;5;241;43m.\u001b[39;49m\u001b[43munsqueeze\u001b[49m\u001b[43m(\u001b[49m\u001b[38;5;241;43m1\u001b[39;49m\u001b[43m)\u001b[49m\u001b[43m)\u001b[49m\u001b[43m \u001b[49m\u001b[38;5;241;43m*\u001b[39;49m\u001b[43m \u001b[49m\u001b[43mni\u001b[49m\u001b[38;5;241;43m.\u001b[39;49m\u001b[43munsqueeze\u001b[49m\u001b[43m(\u001b[49m\u001b[38;5;241;43m0\u001b[39;49m\u001b[43m)\u001b[49m\n",
      "\u001b[0;31mRuntimeError\u001b[0m: The size of tensor a (16384) must match the size of tensor b (1000) at non-singleton dimension 1"
     ]
    }
   ],
   "source": [
    "samples = simulator.sample(500)\n",
    "\n",
    "# mu samples\n",
    "plt.figure(figsize=(7, 3))\n",
    "plt.title(\"Posterior samples\")\n",
    "for i in tqdm(range(500)):\n",
    "    plt.plot(times, samples['mu'][i], color=\"C0\", alpha=0.05)\n",
    "plt.plot(simulator.times, simulator.filter_gwosc_data()*1e21, color=\"C1\", zorder=10, label=\"GWOSC data\")\n",
    "plt.xlim(-0.1, 0.1)\n",
    "plt.xlabel(\"Time [s]\")\n",
    "plt.ylabel(\"Strain\")\n",
    "plt.legend();\n",
    "\n",
    "# x0 samples\n",
    "plt.figure(figsize=(7, 3))\n",
    "plt.title(\"Posterior samples + PSD\")\n",
    "for i in tqdm(range(500)):\n",
    "    plt.plot(times, samples['x0'][i], color=\"C0\", alpha=0.05)\n",
    "plt.plot(simulator.times, simulator.filter_gwosc_data()*1e21, color=\"C1\", zorder=10, label=\"GWOSC data\")\n",
    "plt.xlim(-0.1, 0.1)\n",
    "plt.xlabel(\"Time [s]\")\n",
    "plt.ylabel(\"Strain\")\n",
    "plt.legend();\n",
    "\n",
    "# xi samples\n",
    "plt.figure(figsize=(7, 3))\n",
    "plt.title(\"Posterior samples + PSD + distortions\")\n",
    "for i in tqdm(range(500)):\n",
    "    plt.plot(times, samples['xi'][i, 0], color=\"C0\", alpha=0.05)\n",
    "plt.plot(simulator.times, simulator.filter_gwosc_data()*1e21, color=\"C1\", zorder=10, label=\"GWOSC data\")\n",
    "plt.xlim(-0.1, 0.1)\n",
    "plt.xlabel(\"Time [s]\")\n",
    "plt.ylabel(\"Strain\")\n",
    "plt.legend();"
   ]
  },
  {
   "cell_type": "code",
   "execution_count": 5,
   "id": "978950e1-7e63-4057-89d9-5a1dfc266992",
   "metadata": {},
   "outputs": [],
   "source": [
    "mu = x0 = simulator.get_mu()\n",
    "x0 = simulator.get_x_H0(mu)\n",
    "ni = simulator.get_ni(x0)"
   ]
  },
  {
   "cell_type": "code",
   "execution_count": 8,
   "id": "04e084d7-fde7-4b07-a3c9-5073b7a79dcf",
   "metadata": {},
   "outputs": [
    {
     "ename": "NameError",
     "evalue": "name 'shape' is not defined",
     "output_type": "error",
     "traceback": [
      "\u001b[0;31m---------------------------------------------------------------------------\u001b[0m",
      "\u001b[0;31mNameError\u001b[0m                                 Traceback (most recent call last)",
      "Cell \u001b[0;32mIn[8], line 1\u001b[0m\n\u001b[0;32m----> 1\u001b[0m \u001b[43mshape\u001b[49m(simulator\u001b[38;5;241m.\u001b[39mgw150814_samples[\u001b[38;5;124m'\u001b[39m\u001b[38;5;124mmu\u001b[39m\u001b[38;5;124m'\u001b[39m])\n",
      "\u001b[0;31mNameError\u001b[0m: name 'shape' is not defined"
     ]
    }
   ],
   "source": [
    "shape(simulator.gw150814_samples['mu'])"
   ]
  },
  {
   "cell_type": "code",
   "execution_count": 22,
   "id": "010032ce-9942-42dd-9fe7-85f1ee1eb3c7",
   "metadata": {},
   "outputs": [
    {
     "data": {
      "text/plain": [
       "16384"
      ]
     },
     "execution_count": 22,
     "metadata": {},
     "output_type": "execute_result"
    }
   ],
   "source": [
    "len(tdn)"
   ]
  },
  {
   "cell_type": "code",
   "execution_count": null,
   "id": "ba2f7040-ed12-4672-86a1-6f0218b84418",
   "metadata": {},
   "outputs": [],
   "source": []
  }
 ],
 "metadata": {
  "kernelspec": {
   "display_name": "Python 3 (ipykernel)",
   "language": "python",
   "name": "python3"
  },
  "language_info": {
   "codemirror_mode": {
    "name": "ipython",
    "version": 3
   },
   "file_extension": ".py",
   "mimetype": "text/x-python",
   "name": "python",
   "nbconvert_exporter": "python",
   "pygments_lexer": "ipython3",
   "version": "3.13.1"
  }
 },
 "nbformat": 4,
 "nbformat_minor": 5
}
