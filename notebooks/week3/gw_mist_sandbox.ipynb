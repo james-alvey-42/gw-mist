{
 "cells": [
  {
   "cell_type": "code",
   "execution_count": 1,
   "id": "2ae4f31e-29a2-4155-a811-cf488b76852c",
   "metadata": {},
   "outputs": [],
   "source": [
    "import sys\n",
    "sys.path.append('../../mist-base/GW')\n",
    "sys.path.append('../../mist-base/')\n",
    "sys.path.append('../../mist-base/utils')\n",
    "\n",
    "import gw150814_simulator as gs\n",
    "from gw150814_simulator import GW150814, defaults, GW150814_Additive\n",
    "# import module\n",
    "\n",
    "import torch\n",
    "import numpy as np\n",
    "import scipy\n",
    "import scipy.stats\n",
    "import pytorch_lightning as pl\n",
    "from collections import defaultdict\n",
    "from tqdm import tqdm\n",
    "import plotfancy as pf\n",
    "pf.housestyle_rcparams()\n",
    "\n",
    "import matplotlib.pyplot as plt\n",
    "import matplotlib.ticker as ticker\n",
    "\n",
    "import os, sys\n",
    "\n",
    "from simulators.additive import Simulator_Additive\n",
    "from simulators.utils import *\n",
    "from utils.data import OnTheFlyDataModule, StoredDataModule\n",
    "from utils.module import CustomLossModule_withBounds, BCELossModule\n",
    "\n",
    "mycolors = ['#77aca2', '#ff004f', '#f98e08']\n",
    "device = torch.device('mps') if torch.backends.mps.is_available() else torch.device('cpu')\n"
   ]
  },
  {
   "cell_type": "code",
   "execution_count": 2,
   "id": "dc362766-cbe9-42b9-b07e-529743d8cf44",
   "metadata": {},
   "outputs": [
    {
     "name": "stdout",
     "output_type": "stream",
     "text": [
      "Loading data for H1 at GPS time 1126259462.4\n",
      "Loading PSD for H1 at GPS time 1126259462.4 [can take O(1 min)]\n",
      "Loading posterior samples from ../../mist-base/GW/GW150814_posterior_samples.npz\n"
     ]
    }
   ],
   "source": [
    "default = gs.defaults\n",
    "default['posterior_samples_path'] = '../../mist-base/GW/GW150814_posterior_samples.npz'\n",
    "default['f_max']=250\n",
    "gw = gs.GW150814(settings=default)\n",
    "tdw = gw.generate_time_domain_waveform()\n",
    "tdn = gw.generate_time_domain_noise()"
   ]
  },
  {
   "cell_type": "code",
   "execution_count": 3,
   "id": "1c8a73e9-ace5-433d-b868-85712a3b95d4",
   "metadata": {},
   "outputs": [
    {
     "name": "stdout",
     "output_type": "stream",
     "text": [
      "Loading data for H1 at GPS time 1126259462.4\n",
      "Loading PSD for H1 at GPS time 1126259462.4 [can take O(1 min)]\n",
      "Loading posterior samples from ../../mist-base/GW/GW150814_posterior_samples.npz\n"
     ]
    },
    {
     "ename": "IndexError",
     "evalue": "tuple index out of range",
     "output_type": "error",
     "traceback": [
      "\u001b[0;31m---------------------------------------------------------------------------\u001b[0m",
      "\u001b[0;31mIndexError\u001b[0m                                Traceback (most recent call last)",
      "Cell \u001b[0;32mIn[3], line 12\u001b[0m\n\u001b[1;32m      5\u001b[0m simulator \u001b[38;5;241m=\u001b[39m GW150814_Additive(\n\u001b[1;32m      6\u001b[0m     gw150814_samples\u001b[38;5;241m=\u001b[39mgw150814_samples, \n\u001b[1;32m      7\u001b[0m     bounds\u001b[38;5;241m=\u001b[39mtorch\u001b[38;5;241m.\u001b[39mtensor([\u001b[38;5;241m1.05\u001b[39m]), \u001b[38;5;66;03m#1.2341, 0.5696, 0.3403]), \u001b[39;00m\n\u001b[1;32m      8\u001b[0m     dtype\u001b[38;5;241m=\u001b[39mtorch\u001b[38;5;241m.\u001b[39mfloat32,\n\u001b[1;32m      9\u001b[0m     correlation_scales \u001b[38;5;241m=\u001b[39m correlation_scales\n\u001b[1;32m     10\u001b[0m )\n\u001b[1;32m     11\u001b[0m times \u001b[38;5;241m=\u001b[39m simulator\u001b[38;5;241m.\u001b[39m_process(simulator\u001b[38;5;241m.\u001b[39mtimes)\n\u001b[0;32m---> 12\u001b[0m Nbins \u001b[38;5;241m=\u001b[39m \u001b[43msimulator\u001b[49m\u001b[38;5;241;43m.\u001b[39;49m\u001b[43mNbins\u001b[49m\n",
      "File \u001b[0;32m~/Documents/cambridge/gw-mist/notebooks/week3/../../mist-base/GW/gw150814_simulator.py:305\u001b[0m, in \u001b[0;36mGW150814_Additive.Nbins\u001b[0;34m(self)\u001b[0m\n\u001b[1;32m    303\u001b[0m \u001b[38;5;129m@property\u001b[39m\n\u001b[1;32m    304\u001b[0m \u001b[38;5;28;01mdef\u001b[39;00m\u001b[38;5;250m \u001b[39m\u001b[38;5;21mNbins\u001b[39m(\u001b[38;5;28mself\u001b[39m):\n\u001b[0;32m--> 305\u001b[0m     \u001b[38;5;28;01mreturn\u001b[39;00m \u001b[38;5;28;43mself\u001b[39;49m\u001b[38;5;241;43m.\u001b[39;49m\u001b[43mgw150814_samples\u001b[49m\u001b[43m[\u001b[49m\u001b[38;5;124;43m'\u001b[39;49m\u001b[38;5;124;43mmu\u001b[39;49m\u001b[38;5;124;43m'\u001b[39;49m\u001b[43m]\u001b[49m\u001b[38;5;241;43m.\u001b[39;49m\u001b[43mshape\u001b[49m\u001b[43m[\u001b[49m\u001b[38;5;241;43m1\u001b[39;49m\u001b[43m]\u001b[49m\n",
      "\u001b[0;31mIndexError\u001b[0m: tuple index out of range"
     ]
    }
   ],
   "source": [
    "correlation_scales = torch.tensor([5]).int()\n",
    "gw150814_post = torch.tensor(tdw)\n",
    "gw150814_noise = torch.tensor(tdn)\n",
    "gw150814_samples = {'mu': gw150814_post, 'noise': gw150814_noise}\n",
    "simulator = GW150814_Additive(\n",
    "    gw150814_samples=gw150814_samples, \n",
    "    bounds=torch.tensor([1.05]), #1.2341, 0.5696, 0.3403]), \n",
    "    dtype=torch.float32,\n",
    "    correlation_scales = correlation_scales\n",
    ")\n",
    "times = simulator._process(simulator.times)\n",
    "Nbins = simulator.Nbins"
   ]
  },
  {
   "cell_type": "code",
   "execution_count": 8,
   "id": "88c88c24-15c0-4dbf-b657-0bc5901f2dca",
   "metadata": {},
   "outputs": [
    {
     "data": {
      "text/plain": [
       "16384"
      ]
     },
     "execution_count": 8,
     "metadata": {},
     "output_type": "execute_result"
    }
   ],
   "source": [
    "simulator.gw150814_samples['mu'].shape[0]"
   ]
  },
  {
   "cell_type": "code",
   "execution_count": null,
   "id": "978950e1-7e63-4057-89d9-5a1dfc266992",
   "metadata": {},
   "outputs": [],
   "source": []
  }
 ],
 "metadata": {
  "kernelspec": {
   "display_name": "Python 3 (ipykernel)",
   "language": "python",
   "name": "python3"
  },
  "language_info": {
   "codemirror_mode": {
    "name": "ipython",
    "version": 3
   },
   "file_extension": ".py",
   "mimetype": "text/x-python",
   "name": "python",
   "nbconvert_exporter": "python",
   "pygments_lexer": "ipython3",
   "version": "3.13.1"
  }
 },
 "nbformat": 4,
 "nbformat_minor": 5
}
