{
 "cells": [
  {
   "cell_type": "code",
   "execution_count": 25,
   "id": "188eab36",
   "metadata": {},
   "outputs": [],
   "source": [
    "### - import all the usual stuff - ###\n",
    "\n",
    "import sys\n",
    "sys.path.append('../../mist-base/GW')\n",
    "sys.path.append('../../mist-base/')\n",
    "sys.path.append('../../mist-base/utils')\n",
    "\n",
    "import gw150814_simulator as gs\n",
    "from gw150814_simulator import GW150814, defaults, GW150814_Additive\n",
    "# import module\n",
    "\n",
    "import torch\n",
    "torch.set_float32_matmul_precision('medium')\n",
    "import numpy as np\n",
    "import scipy\n",
    "from scipy.signal import welch\n",
    "import scipy.stats\n",
    "import pytorch_lightning as pl\n",
    "from collections import defaultdict\n",
    "from tqdm import tqdm\n",
    "import jax.numpy as jnp\n",
    "import plotfancy as pf\n",
    "pf.housestyle_rcparams()\n",
    "\n",
    "import matplotlib.pyplot as plt\n",
    "import matplotlib.ticker as ticker\n",
    "\n",
    "import os, sys\n",
    "\n",
    "from simulators.additive import Simulator_Additive\n",
    "from simulators.utils import *\n",
    "from utils.data import OnTheFlyDataModule, StoredDataModule\n",
    "from utils.module import CustomLossModule_withBounds, BCELossModule"
   ]
  },
  {
   "cell_type": "markdown",
   "id": "5201bf98",
   "metadata": {},
   "source": [
    "### Procedure\n",
    "1) Generate stochastic signal - this can simulate a PSD or a whitened PSD - doesn't matter (the generator runs on it)\n",
    "2) Feed signal into comb. Comb generates teeth of "
   ]
  },
  {
   "cell_type": "code",
   "execution_count": null,
   "id": "cd283617",
   "metadata": {},
   "outputs": [],
   "source": [
    "\n",
    "# def comb(x, x0=1, dx=1, f0=49, df=1, nf=6):\n",
    "#     global grid\n",
    "#     grid = np.arange(len(x))*dx+x0\n",
    "#     global i0\n",
    "#     i0 = int(np.ceil((f0 - x0) / dx))\n",
    "#     global indices\n",
    "#     indices = np.arange(nf)+i0\n",
    "#     global f_comb\n",
    "#     f_comb = np.copy(x)\n",
    "#     teeth_freqs_raw = f_comb[f_comb==indices]\n",
    "#     teeth_freqs = np.random.normal(loc=10**3*teeth_freqs_raw, scale=1, size=nf)\n",
    "#     f_comb[f_comb==indices] = teeth_freqs\n",
    "#     return f_comb\n",
    "    \n"
   ]
  },
  {
   "cell_type": "code",
   "execution_count": 98,
   "id": "b0c551a8",
   "metadata": {},
   "outputs": [],
   "source": [
    "def gen_grid(x0,dx,nx):\n",
    "    return np.arange(nx)*dx+x0\n",
    "\n",
    "def gen_white_psd(nf=6000):\n",
    "    white_noise = np.random.normal(loc=0, scale=1, size=nf)\n",
    "    white_noise_psd = welch(white_noise, fs=0.25, window='tukey', nperseg=1000)\n",
    "    return white_noise_psd\n"
   ]
  },
  {
   "cell_type": "code",
   "execution_count": 99,
   "id": "e3d08116",
   "metadata": {},
   "outputs": [],
   "source": [
    "f = gen_white_psd()[1]"
   ]
  },
  {
   "cell_type": "code",
   "execution_count": 105,
   "id": "ff5ec289",
   "metadata": {},
   "outputs": [],
   "source": [
    "def comb(\n",
    "    psd,\n",
    "    df=1,\n",
    "    f0=1,\n",
    "    spacing=1,\n",
    "    nharmonics=6,\n",
    "    mean_amp=10**3,\n",
    "    jitter='lognormal',\n",
    "    jitter_strength=0.5,\n",
    "    x0=0.0\n",
    "):\n",
    "    psd_out = np.copy(psd)\n",
    "    nbins = len(psd)\n",
    "    freqs = f0 + spacing * np.arange(nharmonics)\n",
    "    indices = np.round((freqs - x0) / df).astype(int)\n",
    "\n",
    "    teeth = (indices >= 0) & (indices < nbins)\n",
    "    indices = indices[teeth]\n",
    "\n",
    "    if jitter == 'lognormal':\n",
    "        amps = np.random.lognormal(mean=np.log(mean_amp), sigma=jitter_strength, size=len(indices))\n",
    "    elif jitter == 'exponential':\n",
    "        amps = np.random.exponential(scale=mean_amp, size=len(indices))\n",
    "    elif jitter == 'none':\n",
    "        amps = np.full(len(indices), mean_amp)\n",
    "    else:\n",
    "        raise ValueError(f\"Unsupported jitter type: {jitter}\")\n",
    "\n",
    "    np.add.at(psd_out, indices, amps)\n",
    "\n",
    "    return psd_out"
   ]
  },
  {
   "cell_type": "code",
   "execution_count": 106,
   "id": "564b990a",
   "metadata": {},
   "outputs": [],
   "source": [
    "x=comb(f)"
   ]
  },
  {
   "cell_type": "code",
   "execution_count": 108,
   "id": "32981dfc",
   "metadata": {},
   "outputs": [
    {
     "data": {
      "text/plain": [
       "[<matplotlib.lines.Line2D at 0x335b85310>]"
      ]
     },
     "execution_count": 108,
     "metadata": {},
     "output_type": "execute_result"
    },
    {
     "data": {
      "image/png": "[encoded data removed]",
      "text/plain": [
       "<Figure size 640x480 with 1 Axes>"
      ]
     },
     "metadata": {},
     "output_type": "display_data"
    }
   ],
   "source": [
    "plt.loglog(x)"
   ]
  },
  {
   "cell_type": "code",
   "execution_count": null,
   "id": "b2b3ce7f",
   "metadata": {},
   "outputs": [],
   "source": []
  }
 ],
 "metadata": {
  "kernelspec": {
   "display_name": "Python 3",
   "language": "python",
   "name": "python3"
  },
  "language_info": {
   "codemirror_mode": {
    "name": "ipython",
    "version": 3
   },
   "file_extension": ".py",
   "mimetype": "text/x-python",
   "name": "python",
   "nbconvert_exporter": "python",
   "pygments_lexer": "ipython3",
   "version": "3.13.1"
  }
 },
 "nbformat": 4,
 "nbformat_minor": 5
}
