{
 "cells": [
  {
   "cell_type": "code",
   "execution_count": 3,
   "id": "7d8abef4",
   "metadata": {},
   "outputs": [],
   "source": [
    "import torch\n",
    "torch.set_float32_matmul_precision('medium')\n",
    "import numpy as np\n",
    "import scipy\n",
    "import pytorch_lightning as pl\n",
    "from tqdm import tqdm\n",
    "import plotfancy as pf\n",
    "import matplotlib.pyplot as plt\n",
    "pf.housestyle_rcparams()\n",
    "\n",
    "import os, sys\n",
    "sys.path.append('../../mist-base/GW')\n",
    "sys.path.append('../../mist-base/')\n",
    "sys.path.append('../../mist-base/utils')\n",
    "sys.path.append('../../')\n",
    "\n",
    "from src.utils.generators import Simulator_Additive\n",
    "from simulators.utils import *\n",
    "from utils.data import OnTheFlyDataModule, StoredDataModule\n",
    "from utils.module import CustomLossModule_withBounds, BCELossModule\n",
    "\n",
    "import logging\n",
    "\n",
    "mycolors = ['#570f6d', \"#9e8f92\", '#f98e08']"
   ]
  },
  {
   "cell_type": "code",
   "execution_count": 19,
   "id": "d317ada2",
   "metadata": {},
   "outputs": [],
   "source": [
    "glob_sigma = 1\n",
    "glob_bkg = True\n",
    "glob_pve_bounds = True\n",
    "glob_det = 'det'\n",
    "\n",
    "Nsims = 100_000\n",
    "Nbins = 100\n",
    "train_bounds = 5\n",
    "\n",
    "simulator = Simulator_Additive(Nbins=Nbins, sigma=glob_sigma, bounds=train_bounds, \n",
    "                               fraction=0.2, bkg=glob_bkg, dtype=torch.float32, \n",
    "                               mode='complex', pve_bounds=glob_pve_bounds, bump=glob_det)     \n",
    "samples = simulator.sample(Nsims=Nsims)  "
   ]
  },
  {
   "cell_type": "code",
   "execution_count": 20,
   "id": "b8e5db3e",
   "metadata": {},
   "outputs": [],
   "source": [
    "p_marker = 'p' if glob_pve_bounds == True else 'n'\n",
    "b_marker = 'b' if glob_bkg == True else 'q'\n",
    "s_marker = 'd' if glob_det == 'det' else 's'\n",
    "netid = p_marker+b_marker+s_marker+str(train_bounds)\n",
    "\n",
    "if not os.path.isdir('figs/'+netid):\n",
    "    os.makedirs('figs/'+netid)"
   ]
  },
  {
   "cell_type": "code",
   "execution_count": 21,
   "id": "62aab166",
   "metadata": {},
   "outputs": [],
   "source": [
    "from models.online_norm import OnlineStandardizingLayer\n",
    "from models.unet_1d import UNet1d \n",
    "from models.resnet_1d import ResidualNet\n",
    "\n",
    "\n",
    "class Network_BCE(torch.nn.Module):\n",
    "    def __init__(self):\n",
    "        super().__init__()\n",
    "        \n",
    "        self.net = UNet1d(1, 1, sizes=(8, 16, 32, 64, 128))\n",
    "        # self.net = ResidualNet(1, 1, hidden_features=128, num_blocks=2, kernel_size=1, padding=0) \n",
    "        self.online_norm = OnlineStandardizingLayer((Nbins,), use_average_std=False) \n",
    "\n",
    "    def forward(self, x):\n",
    "        data = x['x']\n",
    "        x = self.net(data.unsqueeze(1)).squeeze(1)\n",
    "        return x"
   ]
  },
  {
   "cell_type": "code",
   "execution_count": 22,
   "id": "31a3de40",
   "metadata": {},
   "outputs": [
    {
     "name": "stderr",
     "output_type": "stream",
     "text": [
      "💡 Tip: For seamless cloud uploads and versioning, try installing [litmodels](https://pypi.org/project/litmodels/) to enable LitModelCheckpoint, which syncs automatically with the Lightning model registry.\n",
      "GPU available: True (cuda), used: True\n",
      "TPU available: False, using: 0 TPU cores\n",
      "HPU available: False, using: 0 HPUs\n",
      "The following callbacks returned in `LightningModule.configure_callbacks` will override existing callbacks passed to Trainer: ModelCheckpoint\n",
      "LOCAL_RANK: 0 - CUDA_VISIBLE_DEVICES: [0]\n",
      "\n",
      "  | Name  | Type        | Params | Mode \n",
      "----------------------------------------------\n",
      "0 | model | Network_BCE | 181 K  | train\n",
      "----------------------------------------------\n",
      "181 K     Trainable params\n",
      "0         Non-trainable params\n",
      "181 K     Total params\n",
      "0.725     Total estimated model params size (MB)\n",
      "99        Modules in train mode\n",
      "0         Modules in eval mode\n"
     ]
    },
    {
     "data": {
      "application/vnd.jupyter.widget-view+json": {
       "model_id": "59499fe750cf4d25a487fb82dd49a654",
       "version_major": 2,
       "version_minor": 0
      },
      "text/plain": [
       "Sanity Checking: |          | 0/? [00:00<?, ?it/s]"
      ]
     },
     "metadata": {},
     "output_type": "display_data"
    },
    {
     "name": "stderr",
     "output_type": "stream",
     "text": [
      "/data/tgh35/summer25/cam_venv/lib/python3.11/site-packages/pytorch_lightning/trainer/connectors/data_connector.py:425: The 'val_dataloader' does not have many workers which may be a bottleneck. Consider increasing the value of the `num_workers` argument` to `num_workers=31` in the `DataLoader` to improve performance.\n",
      "/data/tgh35/summer25/cam_venv/lib/python3.11/site-packages/pytorch_lightning/trainer/connectors/data_connector.py:425: The 'train_dataloader' does not have many workers which may be a bottleneck. Consider increasing the value of the `num_workers` argument` to `num_workers=31` in the `DataLoader` to improve performance.\n"
     ]
    },
    {
     "data": {
      "application/vnd.jupyter.widget-view+json": {
       "model_id": "2f11e177b1574f8ab610253e9d222d76",
       "version_major": 2,
       "version_minor": 0
      },
      "text/plain": [
       "Training: |          | 0/? [00:00<?, ?it/s]"
      ]
     },
     "metadata": {},
     "output_type": "display_data"
    },
    {
     "data": {
      "application/vnd.jupyter.widget-view+json": {
       "model_id": "40e566e27a814b5d91568c5dc2fb3db9",
       "version_major": 2,
       "version_minor": 0
      },
      "text/plain": [
       "Validation: |          | 0/? [00:00<?, ?it/s]"
      ]
     },
     "metadata": {},
     "output_type": "display_data"
    },
    {
     "data": {
      "application/vnd.jupyter.widget-view+json": {
       "model_id": "ad3d73faf83e48e4b204b34bc8823e94",
       "version_major": 2,
       "version_minor": 0
      },
      "text/plain": [
       "Validation: |          | 0/? [00:00<?, ?it/s]"
      ]
     },
     "metadata": {},
     "output_type": "display_data"
    },
    {
     "data": {
      "application/vnd.jupyter.widget-view+json": {
       "model_id": "129c73e00da949f7bfefd4cca8a4630e",
       "version_major": 2,
       "version_minor": 0
      },
      "text/plain": [
       "Validation: |          | 0/? [00:00<?, ?it/s]"
      ]
     },
     "metadata": {},
     "output_type": "display_data"
    },
    {
     "data": {
      "application/vnd.jupyter.widget-view+json": {
       "model_id": "a8a7f22d6dd840aca5daf91e720ff772",
       "version_major": 2,
       "version_minor": 0
      },
      "text/plain": [
       "Validation: |          | 0/? [00:00<?, ?it/s]"
      ]
     },
     "metadata": {},
     "output_type": "display_data"
    },
    {
     "data": {
      "application/vnd.jupyter.widget-view+json": {
       "model_id": "32ac50811cfa45b9af0bab7c94d01ffa",
       "version_major": 2,
       "version_minor": 0
      },
      "text/plain": [
       "Validation: |          | 0/? [00:00<?, ?it/s]"
      ]
     },
     "metadata": {},
     "output_type": "display_data"
    },
    {
     "data": {
      "application/vnd.jupyter.widget-view+json": {
       "model_id": "bf09db404fe04f8485626a3b471330e0",
       "version_major": 2,
       "version_minor": 0
      },
      "text/plain": [
       "Validation: |          | 0/? [00:00<?, ?it/s]"
      ]
     },
     "metadata": {},
     "output_type": "display_data"
    },
    {
     "data": {
      "application/vnd.jupyter.widget-view+json": {
       "model_id": "dfaf9ffec33440ce9a66f07f73a69c15",
       "version_major": 2,
       "version_minor": 0
      },
      "text/plain": [
       "Validation: |          | 0/? [00:00<?, ?it/s]"
      ]
     },
     "metadata": {},
     "output_type": "display_data"
    },
    {
     "data": {
      "application/vnd.jupyter.widget-view+json": {
       "model_id": "fa17afb060844efe935b1da86225c6fb",
       "version_major": 2,
       "version_minor": 0
      },
      "text/plain": [
       "Validation: |          | 0/? [00:00<?, ?it/s]"
      ]
     },
     "metadata": {},
     "output_type": "display_data"
    },
    {
     "data": {
      "application/vnd.jupyter.widget-view+json": {
       "model_id": "2fb087a337bf487e98d5146539d871f6",
       "version_major": 2,
       "version_minor": 0
      },
      "text/plain": [
       "Validation: |          | 0/? [00:00<?, ?it/s]"
      ]
     },
     "metadata": {},
     "output_type": "display_data"
    },
    {
     "data": {
      "application/vnd.jupyter.widget-view+json": {
       "model_id": "cffcf14322604a68aa93ec9cfe8a826c",
       "version_major": 2,
       "version_minor": 0
      },
      "text/plain": [
       "Validation: |          | 0/? [00:00<?, ?it/s]"
      ]
     },
     "metadata": {},
     "output_type": "display_data"
    },
    {
     "data": {
      "application/vnd.jupyter.widget-view+json": {
       "model_id": "30e03e67de4d4c97b9a56302db294858",
       "version_major": 2,
       "version_minor": 0
      },
      "text/plain": [
       "Validation: |          | 0/? [00:00<?, ?it/s]"
      ]
     },
     "metadata": {},
     "output_type": "display_data"
    },
    {
     "data": {
      "application/vnd.jupyter.widget-view+json": {
       "model_id": "9d97aa52d0904c1bb5c55b575e41bbc0",
       "version_major": 2,
       "version_minor": 0
      },
      "text/plain": [
       "Validation: |          | 0/? [00:00<?, ?it/s]"
      ]
     },
     "metadata": {},
     "output_type": "display_data"
    },
    {
     "data": {
      "application/vnd.jupyter.widget-view+json": {
       "model_id": "0bab68b0e3084a2eafffbdb3f9e64cd9",
       "version_major": 2,
       "version_minor": 0
      },
      "text/plain": [
       "Validation: |          | 0/? [00:00<?, ?it/s]"
      ]
     },
     "metadata": {},
     "output_type": "display_data"
    },
    {
     "data": {
      "application/vnd.jupyter.widget-view+json": {
       "model_id": "7dd0af8a275f4e28916729c64a18ce4d",
       "version_major": 2,
       "version_minor": 0
      },
      "text/plain": [
       "Validation: |          | 0/? [00:00<?, ?it/s]"
      ]
     },
     "metadata": {},
     "output_type": "display_data"
    },
    {
     "data": {
      "application/vnd.jupyter.widget-view+json": {
       "model_id": "06d4acaef0b749b89ce041a592d78b50",
       "version_major": 2,
       "version_minor": 0
      },
      "text/plain": [
       "Validation: |          | 0/? [00:00<?, ?it/s]"
      ]
     },
     "metadata": {},
     "output_type": "display_data"
    },
    {
     "data": {
      "application/vnd.jupyter.widget-view+json": {
       "model_id": "ab8402f2b2cd419d977aff5784f52cdd",
       "version_major": 2,
       "version_minor": 0
      },
      "text/plain": [
       "Validation: |          | 0/? [00:00<?, ?it/s]"
      ]
     },
     "metadata": {},
     "output_type": "display_data"
    },
    {
     "data": {
      "application/vnd.jupyter.widget-view+json": {
       "model_id": "206d4859e47d4e318403f6bc1e4d24d5",
       "version_major": 2,
       "version_minor": 0
      },
      "text/plain": [
       "Validation: |          | 0/? [00:00<?, ?it/s]"
      ]
     },
     "metadata": {},
     "output_type": "display_data"
    },
    {
     "data": {
      "application/vnd.jupyter.widget-view+json": {
       "model_id": "112e7dc2f7504562aacfe8755db7f787",
       "version_major": 2,
       "version_minor": 0
      },
      "text/plain": [
       "Validation: |          | 0/? [00:00<?, ?it/s]"
      ]
     },
     "metadata": {},
     "output_type": "display_data"
    },
    {
     "data": {
      "application/vnd.jupyter.widget-view+json": {
       "model_id": "09d9d5204862411082b76a93a015510a",
       "version_major": 2,
       "version_minor": 0
      },
      "text/plain": [
       "Validation: |          | 0/? [00:00<?, ?it/s]"
      ]
     },
     "metadata": {},
     "output_type": "display_data"
    },
    {
     "data": {
      "application/vnd.jupyter.widget-view+json": {
       "model_id": "2ca20100d1c846db9c553da9b5abc384",
       "version_major": 2,
       "version_minor": 0
      },
      "text/plain": [
       "Validation: |          | 0/? [00:00<?, ?it/s]"
      ]
     },
     "metadata": {},
     "output_type": "display_data"
    },
    {
     "data": {
      "application/vnd.jupyter.widget-view+json": {
       "model_id": "112b3364804a4a889353fde062ede21e",
       "version_major": 2,
       "version_minor": 0
      },
      "text/plain": [
       "Validation: |          | 0/? [00:00<?, ?it/s]"
      ]
     },
     "metadata": {},
     "output_type": "display_data"
    },
    {
     "name": "stdout",
     "output_type": "stream",
     "text": [
      "Reloading best model: /data/tgh35/summer25/gw-mist/notebooks/week5/lightning_logs/version_10/checkpoints/epoch=13-val_loss=0.52.ckpt\n"
     ]
    }
   ],
   "source": [
    "# Train\n",
    "def resample(sample):\n",
    "    sample = simulator._resample(sample)\n",
    "    sample['x'] = sample['xi']    \n",
    "    for k, v in sample.items():\n",
    "        if v.ndim > 1:\n",
    "            sample[k] = v.squeeze(0)\n",
    "    return sample\n",
    "\n",
    "batch_size = 128\n",
    "samples = simulator.sample(Nsims=Nsims)  \n",
    "dm = StoredDataModule(samples, batch_size=batch_size, on_after_load_sample=resample)\n",
    "# dm = OnTheFlyDataModule(simulator, Nsims_per_epoch=400*batch_size, batch_size=batch_size)\n",
    "network_BCE = Network_BCE()\n",
    "model = BCELossModule(network_BCE, learning_rate=8e-3)\n",
    "trainer = pl.Trainer(\n",
    "    accelerator=\"gpu\", \n",
    "    max_epochs=100, \n",
    "    precision=64,\n",
    "    # fast_dev_run=True\n",
    ")\n",
    "trainer.fit(model, dm)\n",
    "network_BCE.cuda().eval();"
   ]
  },
  {
   "cell_type": "code",
   "execution_count": 23,
   "id": "f8a5ff38",
   "metadata": {},
   "outputs": [],
   "source": [
    "torch.save(network_BCE, f'networks/network_BCE_{netid}_complex')\n",
    "torch.save(model, f'networks/model_BCE_{netid}_complex')"
   ]
  },
  {
   "cell_type": "code",
   "execution_count": null,
   "id": "26548b9c",
   "metadata": {},
   "outputs": [],
   "source": []
  }
 ],
 "metadata": {
  "kernelspec": {
   "display_name": "cam_venv (3.11.0)",
   "language": "python",
   "name": "python3"
  },
  "language_info": {
   "codemirror_mode": {
    "name": "ipython",
    "version": 3
   },
   "file_extension": ".py",
   "mimetype": "text/x-python",
   "name": "python",
   "nbconvert_exporter": "python",
   "pygments_lexer": "ipython3",
   "version": "3.11.0"
  }
 },
 "nbformat": 4,
 "nbformat_minor": 5
}
