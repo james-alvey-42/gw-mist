{
 "cells": [
  {
   "cell_type": "code",
   "execution_count": 1,
   "id": "8ac3b482",
   "metadata": {},
   "outputs": [],
   "source": [
    "import torch\n",
    "torch.set_float32_matmul_precision('medium')\n",
    "import numpy as np\n",
    "import scipy\n",
    "import pytorch_lightning as pl\n",
    "from tqdm import tqdm\n",
    "import plotfancy as pf\n",
    "import matplotlib.pyplot as plt\n",
    "pf.housestyle_rcparams()\n",
    "\n",
    "import os, sys\n",
    "sys.path.append('../../mist-base/GW')\n",
    "sys.path.append('../../mist-base/')\n",
    "sys.path.append('../../mist-base/utils')\n",
    "sys.path.append('../../')\n",
    "\n",
    "from src.utils.generators import Simulator_Additive\n",
    "from simulators.additive import Simulator_Additive_Correlated\n",
    "from simulators.utils import *\n",
    "from utils.data import OnTheFlyDataModule, StoredDataModule\n",
    "from utils.module import CustomLossModule_withBounds, BCELossModule\n",
    "\n",
    "import logging\n",
    "\n",
    "mycolors = ['#570f6d', \"#9e8f92\", '#f98e08']"
   ]
  },
  {
   "cell_type": "code",
   "execution_count": null,
   "id": "0dd58bf1",
   "metadata": {},
   "outputs": [],
   "source": [
    "test = Simulator_Additive_Correlated(Nbins=100, sigma=1)\n",
    "sample = tes"
   ]
  },
  {
   "cell_type": "code",
   "execution_count": null,
   "id": "d56eb1cb",
   "metadata": {},
   "outputs": [],
   "source": []
  }
 ],
 "metadata": {
  "kernelspec": {
   "display_name": "Python 3",
   "language": "python",
   "name": "python3"
  },
  "language_info": {
   "codemirror_mode": {
    "name": "ipython",
    "version": 3
   },
   "file_extension": ".py",
   "mimetype": "text/x-python",
   "name": "python",
   "nbconvert_exporter": "python",
   "pygments_lexer": "ipython3",
   "version": "3.13.1"
  }
 },
 "nbformat": 4,
 "nbformat_minor": 5
}
