{
 "cells": [
  {
   "cell_type": "code",
   "execution_count": 29,
   "id": "1e07860a-cfbd-41ed-b880-26e704273c00",
   "metadata": {},
   "outputs": [
    {
     "data": {
      "text/plain": [
       "True"
      ]
     },
     "execution_count": 29,
     "metadata": {},
     "output_type": "execute_result"
    }
   ],
   "source": [
    "from gwosc.datasets import event_gps\n",
    "from gwpy.timeseries import TimeSeries, TimeSeriesDict\n",
    "from gwpy.frequencyseries import FrequencySeries\n",
    "from gwpy.signal import filter_design\n",
    "from gwpy.plot import Plot\n",
    "from scipy.special import erf\n",
    "from ipywidgets import interactive_output, VBox, HBox, FloatSlider\n",
    "\n",
    "import numpy as np\n",
    "import matplotlib.pyplot as plt\n",
    "import plotfancy as pf\n",
    "pf.housestyle_rcparams()\n"
   ]
  },
  {
   "cell_type": "code",
   "execution_count": 2,
   "id": "dce5560c-8906-4261-90b0-2cb525bd16b1",
   "metadata": {},
   "outputs": [],
   "source": [
    "gps = event_gps('GW150914')\n",
    "data = TimeSeries.fetch_open_data('L1', gps-5, gps+5)"
   ]
  },
  {
   "cell_type": "code",
   "execution_count": null,
   "id": "70191af5-6a18-4a91-8a37-417f43c3cbe6",
   "metadata": {},
   "outputs": [],
   "source": []
  },
  {
   "cell_type": "code",
   "execution_count": 41,
   "id": "d2a93612-3f59-4641-889e-d2aa99c6a8c8",
   "metadata": {},
   "outputs": [
    {
     "data": {
      "application/vnd.jupyter.widget-view+json": {
       "model_id": "db55e0ced5df43e1abbed6aa7d091b2e",
       "version_major": 2,
       "version_minor": 0
      },
      "text/plain": [
       "VBox(children=(FloatSlider(value=2.0, description='Width', max=4.0), Output()))"
      ]
     },
     "execution_count": 41,
     "metadata": {},
     "output_type": "execute_result"
    }
   ],
   "source": [
    "def gs(x, centre=0, width=1, softness=0.1):\n",
    "    return 0.5 * (erf((x - (centre - width/2)) / softness) - erf((x - (centre + width/2)) / softness))\n",
    "\n",
    "c = 0\n",
    "s = 0.1\n",
    "\n",
    "def process_and_plot(w):\n",
    "    grid = np.linspace(-2,2, 100)\n",
    "    dat = gs(grid, width=w, softness=s, centre=c)\n",
    "\n",
    "    fig, ax1 = pf.create_plot((4,3))\n",
    "    ax1.set_xlim(-2,2)\n",
    "    ax1.set_ylim(-0.05,1.05)\n",
    "    ax1.plot(grid,dat, color='black')\n",
    "    plt.show()\n",
    "    plt.close(fig)\n",
    "\n",
    "w_slider = FloatSlider(min=0, max=4, step=0.1, value=2, description='Width')\n",
    "\n",
    "# Interactive output\n",
    "out = interactive_output(process_and_plot, {'w': w_slider})\n",
    "\n",
    "# Display widgets and output\n",
    "VBox([w_slider, out])\n",
    "\n"
   ]
  },
  {
   "cell_type": "code",
   "execution_count": 42,
   "id": "5a3e11bb-fac4-4722-9de6-c8ca2a802629",
   "metadata": {},
   "outputs": [
    {
     "name": "stdout",
     "output_type": "stream",
     "text": [
      "usage: jupyter [-h] [--version] [--config-dir] [--data-dir] [--runtime-dir]\n",
      "               [--paths] [--json] [--debug]\n",
      "               [subcommand]\n",
      "\n",
      "Jupyter: Interactive Computing\n",
      "\n",
      "positional arguments:\n",
      "  subcommand     the subcommand to launch\n",
      "\n",
      "options:\n",
      "  -h, --help     show this help message and exit\n",
      "  --version      show the versions of core jupyter packages and exit\n",
      "  --config-dir   show Jupyter config dir\n",
      "  --data-dir     show Jupyter data dir\n",
      "  --runtime-dir  show Jupyter runtime dir\n",
      "  --paths        show all Jupyter paths. Add --json for machine-readable\n",
      "                 format.\n",
      "  --json         output paths as machine-readable json\n",
      "  --debug        output debug information about paths\n",
      "\n",
      "Available subcommands: console contrib dejavu events execute kernel kernelspec\n",
      "lab labextension labhub migrate nbconvert nbextensions_configurator notebook\n",
      "run server troubleshoot trust\n",
      "\n",
      "Jupyter command `jupyter-nbextension` not found.\n"
     ]
    }
   ],
   "source": [
    "!jupyter nbextension enable --py widgetsnbextension --sys-prefix"
   ]
  },
  {
   "cell_type": "code",
   "execution_count": 44,
   "id": "33dc99ea-3e0e-4504-8cc3-1d00a0efa897",
   "metadata": {},
   "outputs": [
    {
     "name": "stdout",
     "output_type": "stream",
     "text": [
      "usage: jupyter [-h] [--version] [--config-dir] [--data-dir] [--runtime-dir]\n",
      "               [--paths] [--json] [--debug]\n",
      "               [subcommand]\n",
      "\n",
      "Jupyter: Interactive Computing\n",
      "\n",
      "positional arguments:\n",
      "  subcommand     the subcommand to launch\n",
      "\n",
      "options:\n",
      "  -h, --help     show this help message and exit\n",
      "  --version      show the versions of core jupyter packages and exit\n",
      "  --config-dir   show Jupyter config dir\n",
      "  --data-dir     show Jupyter data dir\n",
      "  --runtime-dir  show Jupyter runtime dir\n",
      "  --paths        show all Jupyter paths. Add --json for machine-readable\n",
      "                 format.\n",
      "  --json         output paths as machine-readable json\n",
      "  --debug        output debug information about paths\n",
      "\n",
      "Available subcommands: console contrib dejavu events execute kernel kernelspec\n",
      "lab labextension labhub migrate nbconvert nbextensions_configurator notebook\n",
      "run server troubleshoot trust\n",
      "\n",
      "Jupyter command `jupyter-nbextension` not found.\n"
     ]
    }
   ],
   "source": [
    "!jupyter nbextension list\n"
   ]
  },
  {
   "cell_type": "code",
   "execution_count": null,
   "id": "9d861bfe-91b7-47b3-8088-513a56196e2f",
   "metadata": {},
   "outputs": [],
   "source": []
  }
 ],
 "metadata": {
  "kernelspec": {
   "display_name": "Python 3 (ipykernel)",
   "language": "python",
   "name": "python3"
  },
  "language_info": {
   "codemirror_mode": {
    "name": "ipython",
    "version": 3
   },
   "file_extension": ".py",
   "mimetype": "text/x-python",
   "name": "python",
   "nbconvert_exporter": "python",
   "pygments_lexer": "ipython3",
   "version": "3.13.1"
  }
 },
 "nbformat": 4,
 "nbformat_minor": 5
}
