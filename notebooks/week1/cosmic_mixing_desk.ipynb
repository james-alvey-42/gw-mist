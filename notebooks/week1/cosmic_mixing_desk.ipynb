{
 "cells": [
  {
   "cell_type": "code",
   "execution_count": 71,
   "id": "1e07860a-cfbd-41ed-b880-26e704273c00",
   "metadata": {},
   "outputs": [
    {
     "data": {
      "text/plain": [
       "True"
      ]
     },
     "execution_count": 71,
     "metadata": {},
     "output_type": "execute_result"
    }
   ],
   "source": [
    "from gwosc.datasets import event_gps\n",
    "from gwpy.timeseries import TimeSeries, TimeSeriesDict\n",
    "from gwpy.frequencyseries import FrequencySeries\n",
    "from gwpy.signal import filter_design\n",
    "from gwpy.plot import Plot\n",
    "from scipy.special import erf\n",
    "from ipywidgets import interactive_output, VBox, HBox, FloatSlider, Checkbox, FloatLogSlider, FloatRangeSlider, FloatText\n",
    "\n",
    "import numpy as np\n",
    "import matplotlib.pyplot as plt\n",
    "import plotfancy as pf\n",
    "pf.housestyle_rcparams()\n"
   ]
  },
  {
   "cell_type": "code",
   "execution_count": 4,
   "id": "dce5560c-8906-4261-90b0-2cb525bd16b1",
   "metadata": {},
   "outputs": [],
   "source": [
    "gps = event_gps('GW150914')\n",
    "data = TimeSeries.fetch_open_data('L1', gps-5, gps+5)"
   ]
  },
  {
   "cell_type": "code",
   "execution_count": 91,
   "id": "d2a93612-3f59-4641-889e-d2aa99c6a8c8",
   "metadata": {},
   "outputs": [
    {
     "name": "stderr",
     "output_type": "stream",
     "text": [
      "<>:37: SyntaxWarning: invalid escape sequence '\\e'\n",
      "<>:37: SyntaxWarning: invalid escape sequence '\\e'\n",
      "/var/folders/6b/x84gj0ds47n3hjglw1wq1j8m0000gn/T/ipykernel_93347/3088864182.py:37: SyntaxWarning: invalid escape sequence '\\e'\n",
      "  ax1.set_ylabel('$\\exp($Gain [dB]$)$')\n"
     ]
    },
    {
     "data": {
      "application/vnd.jupyter.widget-view+json": {
       "model_id": "6fe41aff5b0048d6a2227d73c9493b36",
       "version_major": 2,
       "version_minor": 0
      },
      "text/plain": [
       "VBox(children=(FloatRangeSlider(value=(24.0, 300.0), description='BP', max=1000.0, min=1.0, step=0.01), FloatL…"
      ]
     },
     "execution_count": 91,
     "metadata": {},
     "output_type": "execute_result"
    }
   ],
   "source": [
    "def gs(x, centre=0, width=1, softness=0.1):\n",
    "    return 0.5 * (erf((x - (centre - width/2)) / softness) - erf((x - (centre + width/2)) / softness))\n",
    "\n",
    "def gslr(x, left, right, softness=0.1):\n",
    "    return 0.5 * (erf((x - (left)) / softness) - erf((x - (right)) / softness))\n",
    "\n",
    "\n",
    "gridlims = [1,1000]\n",
    "res = 1000\n",
    "\n",
    "def process_and_plot(lr,s, notch_b, notch_fun=60):\n",
    "    grid = np.arange(gridlims[0], gridlims[1], res)\n",
    "    \n",
    "    dat = gslr(grid, lr[0], lr[1],softness=s)\n",
    "\n",
    "    notch_f = notch_fun*np.linspace(1,5)\n",
    "\n",
    "    notch_f = [60,180,220]\n",
    "    if notch_b:\n",
    "        notch_mask = np.ones(len(grid))\n",
    "        for notch in notch_f:\n",
    "            notch_mask = notch_mask*(1-gs(grid, width=2, softness=0.1, centre=notch))\n",
    "    \n",
    "        dat = dat*notch_mask\n",
    "\n",
    "    fig, ax1 = pf.create_plot((4,3))\n",
    "    ax1.set_xlim(gridlims)\n",
    "    ax1.set_ylim(-0.05,1.05)\n",
    "    ax1.plot(grid,dat, color='black', lw=2, zorder=10)\n",
    "    ax1.set_xscale('log')\n",
    "\n",
    "    ax2 = ax1.twinx()\n",
    "    ax2.plot(data.psd(), color='#77aca2', alpha=0.6, zorder=-10)\n",
    "    ax2.set_yscale('log')\n",
    "    ax2.set_ylabel('Noise PSD')\n",
    "\n",
    "    ax1.set_ylabel('$\\exp($Gain [dB]$)$')\n",
    "    ax1.set_xlabel('Frequency [Hz]')\n",
    "    \n",
    "    pf.fix_plot([ax1,ax2])\n",
    "\n",
    "    ax1.tick_params(top=True,right=False, direction='in', length=7, which='major')\n",
    "    ax1.tick_params(top=True,right=False, direction='in', length=4, which='minor')\n",
    "\n",
    "\n",
    "    \n",
    "    plt.show()\n",
    "    plt.close(fig)\n",
    "\n",
    "#### - OLD - ####\n",
    "# l_slider = FloatLogSlider(min=0, max=3, step=0.01, value=np.log10(25), description='BP Left')\n",
    "# r_slider = FloatLogSlider(min=0, max=3, step=0.01, value=np.log10(300), description='BP Right')\n",
    "\n",
    "#### - SLIDERS - ####\n",
    "lr_slider = FloatRangeSlider(min=1, max=1000, step=0.01, value=[24,300], description='BP')\n",
    "s_slider = FloatLogSlider(min=-1, max=2, step=0.1, value=-.5, description='Softness')\n",
    "\n",
    "n_box = FloatText(value=60, description='Ground Base Harmonic')\n",
    "n_checkbox = Checkbox(value=False, description='Notches On?')\n",
    "\n",
    "#### - PLOTTING - ####\n",
    "out = interactive_output(process_and_plot, {'lr': lr_slider, 's':s_slider, 'notch_b':n_checkbox, 'notch_fun':n_box})\n",
    "VBox([lr_slider, s_slider,n_checkbox,n_box, out])\n",
    "\n"
   ]
  },
  {
   "cell_type": "code",
   "execution_count": 80,
   "id": "5a3e11bb-fac4-4722-9de6-c8ca2a802629",
   "metadata": {},
   "outputs": [
    {
     "data": {
      "text/plain": [
       "array([ 60.        ,  90.        , 110.        , 125.        ,\n",
       "       137.        , 147.        , 155.57142857, 163.07142857,\n",
       "       169.73809524, 175.73809524])"
      ]
     },
     "execution_count": 80,
     "metadata": {},
     "output_type": "execute_result"
    }
   ],
   "source": [
    "n=10\n",
    "harmonic_series = 60*np.cumsum(1 / np.arange(1, n + 1))\n",
    "harmonic_series"
   ]
  },
  {
   "cell_type": "code",
   "execution_count": 86,
   "id": "33dc99ea-3e0e-4504-8cc3-1d00a0efa897",
   "metadata": {},
   "outputs": [
    {
     "data": {
      "text/plain": [
       "array([ 60, 120, 180])"
      ]
     },
     "execution_count": 86,
     "metadata": {},
     "output_type": "execute_result"
    }
   ],
   "source": [
    "notch_fun = 60\n",
    "notch_fun*np.arange(1,4)"
   ]
  },
  {
   "cell_type": "code",
   "execution_count": null,
   "id": "9d861bfe-91b7-47b3-8088-513a56196e2f",
   "metadata": {},
   "outputs": [],
   "source": []
  }
 ],
 "metadata": {
  "kernelspec": {
   "display_name": "Python 3 (ipykernel)",
   "language": "python",
   "name": "python3"
  },
  "language_info": {
   "codemirror_mode": {
    "name": "ipython",
    "version": 3
   },
   "file_extension": ".py",
   "mimetype": "text/x-python",
   "name": "python",
   "nbconvert_exporter": "python",
   "pygments_lexer": "ipython3",
   "version": "3.13.1"
  }
 },
 "nbformat": 4,
 "nbformat_minor": 5
}
