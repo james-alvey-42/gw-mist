{
 "cells": [
  {
   "cell_type": "code",
   "execution_count": 58,
   "id": "5053eee1-6416-4a51-917c-fdd2fbcf0734",
   "metadata": {},
   "outputs": [
    {
     "data": {
      "text/plain": [
       "True"
      ]
     },
     "execution_count": 58,
     "metadata": {},
     "output_type": "execute_result"
    }
   ],
   "source": [
    "from gwosc.datasets import event_gps\n",
    "from gwpy.timeseries import TimeSeries, TimeSeriesDict\n",
    "from gwpy.frequencyseries import FrequencySeries\n",
    "from gwpy.signal import filter_design\n",
    "from gwpy.plot import Plot\n",
    "from scipy.special import erf\n",
    "from ipywidgets import interactive_output, VBox, HBox, FloatSlider, Checkbox, FloatLogSlider, FloatRangeSlider, FloatText\n",
    "\n",
    "import numpy as np\n",
    "import matplotlib.pyplot as plt\n",
    "import plotfancy as pf\n",
    "pf.housestyle_rcparams()"
   ]
  },
  {
   "cell_type": "code",
   "execution_count": 89,
   "id": "646024da-ea20-47d2-a22d-933f9b7b25aa",
   "metadata": {},
   "outputs": [],
   "source": [
    "def lrm(data, base_window=10, log_base=10):\n",
    "    data = np.asarray(data)\n",
    "    is_1d = False\n",
    "\n",
    "    if data.ndim == 1:\n",
    "        data = data[:, np.newaxis]\n",
    "        is_1d = True\n",
    "\n",
    "    n, m = data.shape\n",
    "    mean = np.zeros_like(data)\n",
    "    std = np.zeros_like(data)\n",
    "\n",
    "    for i in range(n):\n",
    "        window_size = max(1, int(np.floor(np.log(i + 1) / np.log(log_base)) * base_window))\n",
    "        start = max(0, i - window_size + 1)\n",
    "        window = data[start:i + 1]\n",
    "        mean[i] = window.mean(axis=0)\n",
    "        std[i] = window.std(axis=0, ddof=0)  # population std (ddof=0), change to ddof=1 if sample std\n",
    "\n",
    "    if is_1d:\n",
    "        return mean.ravel(), std.ravel()\n",
    "    return np.array([mean, std])"
   ]
  },
  {
   "cell_type": "code",
   "execution_count": 2,
   "id": "dce5560c-8906-4261-90b0-2cb525bd16b1",
   "metadata": {},
   "outputs": [],
   "source": [
    "gps = event_gps('GW150914')\n",
    "data = TimeSeries.fetch_open_data('L1', gps-5, gps+5)"
   ]
  },
  {
   "cell_type": "code",
   "execution_count": 141,
   "id": "d2a93612-3f59-4641-889e-d2aa99c6a8c8",
   "metadata": {},
   "outputs": [
    {
     "name": "stderr",
     "output_type": "stream",
     "text": [
      "<>:35: SyntaxWarning: invalid escape sequence '\\e'\n",
      "<>:35: SyntaxWarning: invalid escape sequence '\\e'\n",
      "/var/folders/6b/x84gj0ds47n3hjglw1wq1j8m0000gn/T/ipykernel_94362/3227418917.py:35: SyntaxWarning: invalid escape sequence '\\e'\n",
      "  ax1.set_ylabel('$\\exp($Gain [dB]$)$')\n"
     ]
    },
    {
     "data": {
      "application/vnd.jupyter.widget-view+json": {
       "model_id": "17494ff77f4447bd940bbf747157dd46",
       "version_major": 2,
       "version_minor": 0
      },
      "text/plain": [
       "VBox(children=(FloatRangeSlider(value=(24.0, 300.0), description='BP', max=1000.0, min=1.0, step=0.01), FloatL…"
      ]
     },
     "execution_count": 141,
     "metadata": {},
     "output_type": "execute_result"
    }
   ],
   "source": [
    "def gs(x, centre=0, width=1, softness=0.1):\n",
    "    return 0.5 * (erf((x - (centre - width/2)) / softness) - erf((x - (centre + width/2)) / softness))\n",
    "\n",
    "def gslr(x, left, right, softness=0.1):\n",
    "    return 0.5 * (erf((x - (left)) / softness) - erf((x - (right)) / softness))\n",
    "\n",
    "\n",
    "gridlims = [1,1000]\n",
    "res = len(data.psd())\n",
    "\n",
    "def process_and_plot(lr,s, notch_b, notch_fun=60):\n",
    "    grid = np.linspace(gridlims[0], gridlims[1], res)\n",
    "    dat = gslr(grid, lr[0], lr[1],softness=s)\n",
    "    \n",
    "    notch_f = notch_fun*np.arange(1,7)\n",
    "\n",
    "    if notch_b:\n",
    "        notch_mask = np.ones(len(grid))\n",
    "        for notch in notch_f:\n",
    "            notch_mask = notch_mask*(1-gs(grid, width=2, softness=0.1, centre=notch))\n",
    "    \n",
    "        dat = dat*notch_mask\n",
    "\n",
    "    fig, ax1 = pf.create_plot((4,3))\n",
    "    ax1.set_xlim(gridlims)\n",
    "    ax1.set_ylim(-0.05,1.05)\n",
    "    ax1.plot(grid,dat, color='black', lw=2, zorder=10)\n",
    "    ax1.set_xscale('log')\n",
    "\n",
    "    ax2 = ax1.twinx()\n",
    "    ax2.plot(data.psd(), color='#77aca2', alpha=0.6, zorder=-10)\n",
    "    ax2.set_yscale('log')\n",
    "    ax2.set_ylabel('Noise PSD')\n",
    "\n",
    "    ax1.set_ylabel('$\\exp($Gain [dB]$)$')\n",
    "    ax1.set_xlabel('Frequency [Hz]')\n",
    "    pf.fix_plot([ax1,ax2])\n",
    "    ax1.tick_params(top=True,right=False, direction='in', length=7, which='major')\n",
    "    ax1.tick_params(top=True,right=False, direction='in', length=4, which='minor')\n",
    "\n",
    "    ax3 = fig.add_axes((1.35,0,1,1))\n",
    "    # global gw\n",
    "    gw = data.psd()*dat\n",
    "    gwrolling = lrm(gw)\n",
    "    ax3.loglog(grid,gwrolling[0], color='#ff004f')\n",
    "    # ax3.fill_between(grid,gwrolling[0]-gwrolling[1],gwrolling[0]+gwrolling[1], color='#ff004f', alpha=0.3)\n",
    "    ax3.set_ylim(5e-48, 5e-43)\n",
    "    ax3.set_xlabel('Frequency [Hz]')\n",
    "\n",
    "    ax4 = fig.add_axes((0,-1.3,2,1))\n",
    "    global td_gw\n",
    "    td_gw = np.fft.irfft(gw)\n",
    "\n",
    "    tgrid = np.arange(0,4,np.float64(data.dt))\n",
    "    ax4.plot(np.array(data.times)-data.epoch.value,td_gw)\n",
    "    # ax4.plot(np.array(data.times)-data.epoch.value,np.array(data.data))\n",
    "    ax4.set_xlim([4.95,5.05])\n",
    "\n",
    "    pf.fix_plot([ax3,ax4])\n",
    "    plt.show()\n",
    "    plt.close(fig)\n",
    "\n",
    "#### - OLD - ####\n",
    "# l_slider = FloatLogSlider(min=0, max=3, step=0.01, value=np.log10(25), description='BP Left')\n",
    "# r_slider = FloatLogSlider(min=0, max=3, step=0.01, value=np.log10(300), description='BP Right')\n",
    "\n",
    "#### - SLIDERS - ####\n",
    "lr_slider = FloatRangeSlider(min=1, max=1000, step=0.01, value=[24,300], description='BP')\n",
    "s_slider = FloatLogSlider(min=-1, max=2, step=0.1, value=-.5, description='Softness')\n",
    "n_slider = FloatLogSlider(min=0, max=3, step=0.001, value=60, description='Ground H0')\n",
    "n_checkbox = Checkbox(value=False, description='Notches On?')\n",
    "\n",
    "#### - PLOTTING - ####\n",
    "out = interactive_output(process_and_plot, {'lr': lr_slider, 's':s_slider, 'notch_b':n_checkbox, 'notch_fun':n_slider})\n",
    "VBox([lr_slider, s_slider,n_checkbox,n_slider, out])\n",
    "\n"
   ]
  },
  {
   "cell_type": "code",
   "execution_count": null,
   "id": "1370c4bb-0f4b-4413-a7f2-93636ad2db5b",
   "metadata": {},
   "outputs": [],
   "source": []
  }
 ],
 "metadata": {
  "kernelspec": {
   "display_name": "Python 3 (ipykernel)",
   "language": "python",
   "name": "python3"
  },
  "language_info": {
   "codemirror_mode": {
    "name": "ipython",
    "version": 3
   },
   "file_extension": ".py",
   "mimetype": "text/x-python",
   "name": "python",
   "nbconvert_exporter": "python",
   "pygments_lexer": "ipython3",
   "version": "3.13.1"
  }
 },
 "nbformat": 4,
 "nbformat_minor": 5
}
