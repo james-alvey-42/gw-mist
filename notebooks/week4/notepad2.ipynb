{
 "cells": [
  {
   "cell_type": "code",
   "execution_count": 1,
   "id": "80560d9e",
   "metadata": {},
   "outputs": [],
   "source": [
    "import sys\n",
    "import torch\n",
    "import numpy as np\n",
    "import matplotlib.pyplot as plt\n",
    "sys.path.append('../../')\n",
    "from src.utils.comb import Comb3, Sim_FD_Additive\n",
    "test = Sim_FD_Additive(1000, 1,5)"
   ]
  },
  {
   "cell_type": "code",
   "execution_count": 2,
   "id": "6a298e31",
   "metadata": {},
   "outputs": [],
   "source": [
    "testsample = test._sample(100)"
   ]
  },
  {
   "cell_type": "code",
   "execution_count": 10,
   "id": "d646599f",
   "metadata": {},
   "outputs": [
    {
     "ename": "ValueError",
     "evalue": "shape mismatch: objects cannot be broadcast to a single shape.  Mismatch is between arg 0 with shape (1, 1000) and arg 1 with shape (2049,).",
     "output_type": "error",
     "traceback": [
      "\u001b[0;31m---------------------------------------------------------------------------\u001b[0m",
      "\u001b[0;31mValueError\u001b[0m                                Traceback (most recent call last)",
      "Cell \u001b[0;32mIn[10], line 3\u001b[0m\n\u001b[1;32m      1\u001b[0m a \u001b[38;5;241m=\u001b[39m torch\u001b[38;5;241m.\u001b[39mfrom_numpy(np\u001b[38;5;241m.\u001b[39mload(\u001b[38;5;124m'\u001b[39m\u001b[38;5;124mbase_PSD.npz\u001b[39m\u001b[38;5;124m'\u001b[39m)[\u001b[38;5;124m'\u001b[39m\u001b[38;5;124mpsd\u001b[39m\u001b[38;5;124m'\u001b[39m][\u001b[38;5;241m1\u001b[39m])\n\u001b[1;32m      2\u001b[0m test2 \u001b[38;5;241m=\u001b[39m Sim_FD_Additive(\u001b[38;5;241m1000\u001b[39m, \u001b[38;5;241m1\u001b[39m,a, bounds\u001b[38;5;241m=\u001b[39m\u001b[38;5;241m5\u001b[39m, white\u001b[38;5;241m=\u001b[39m\u001b[38;5;28;01mFalse\u001b[39;00m)\n\u001b[0;32m----> 3\u001b[0m testsample2 \u001b[38;5;241m=\u001b[39m \u001b[43mtest2\u001b[49m\u001b[38;5;241;43m.\u001b[39;49m\u001b[43m_sample\u001b[49m\u001b[43m(\u001b[49m\u001b[38;5;241;43m1\u001b[39;49m\u001b[43m)\u001b[49m\n\u001b[1;32m      4\u001b[0m plt\u001b[38;5;241m.\u001b[39mloglog(np\u001b[38;5;241m.\u001b[39msqueeze(testsample2[\u001b[38;5;124m'\u001b[39m\u001b[38;5;124mx0\u001b[39m\u001b[38;5;124m'\u001b[39m]), alpha\u001b[38;5;241m=\u001b[39m\u001b[38;5;241m0.8\u001b[39m)\n\u001b[1;32m      5\u001b[0m plt\u001b[38;5;241m.\u001b[39mloglog(np\u001b[38;5;241m.\u001b[39msqueeze(testsample2[\u001b[38;5;124m'\u001b[39m\u001b[38;5;124mxi\u001b[39m\u001b[38;5;124m'\u001b[39m]), alpha\u001b[38;5;241m=\u001b[39m\u001b[38;5;241m0.8\u001b[39m)\n",
      "File \u001b[0;32m~/Documents/cambridge/gw-mist/notebooks/week4/../../src/utils/comb.py:271\u001b[0m, in \u001b[0;36mSim_FD_Additive._sample\u001b[0;34m(self, Nsims)\u001b[0m\n\u001b[1;32m    269\u001b[0m mu \u001b[38;5;241m=\u001b[39m \u001b[38;5;28mself\u001b[39m\u001b[38;5;241m.\u001b[39mget_mu()\n\u001b[1;32m    270\u001b[0m sample[\u001b[38;5;124m'\u001b[39m\u001b[38;5;124mmu\u001b[39m\u001b[38;5;124m'\u001b[39m] \u001b[38;5;241m=\u001b[39m mu\n\u001b[0;32m--> 271\u001b[0m x0 \u001b[38;5;241m=\u001b[39m \u001b[38;5;28;43mself\u001b[39;49m\u001b[38;5;241;43m.\u001b[39;49m\u001b[43mget_x_H0\u001b[49m\u001b[43m(\u001b[49m\u001b[43mNsims\u001b[49m\u001b[43m,\u001b[49m\u001b[43m \u001b[49m\u001b[43mmu\u001b[49m\u001b[43m)\u001b[49m\n\u001b[1;32m    272\u001b[0m ni \u001b[38;5;241m=\u001b[39m \u001b[38;5;28mself\u001b[39m\u001b[38;5;241m.\u001b[39mget_ni(x0)\n\u001b[1;32m    273\u001b[0m epsilon \u001b[38;5;241m=\u001b[39m \u001b[38;5;28mself\u001b[39m\u001b[38;5;241m.\u001b[39mget_epsilon(ni, x0)\n",
      "File \u001b[0;32m~/Documents/cambridge/gw-mist/notebooks/week4/../../src/utils/comb.py:230\u001b[0m, in \u001b[0;36mSim_FD_Additive.get_x_H0\u001b[0;34m(self, Nsims, mu)\u001b[0m\n\u001b[1;32m    228\u001b[0m \u001b[38;5;28;01mdef\u001b[39;00m\u001b[38;5;250m \u001b[39m\u001b[38;5;21mget_x_H0\u001b[39m(\u001b[38;5;28mself\u001b[39m, Nsims: \u001b[38;5;28mint\u001b[39m, mu: torch\u001b[38;5;241m.\u001b[39mTensor \u001b[38;5;241m=\u001b[39m \u001b[38;5;241m0\u001b[39m) \u001b[38;5;241m-\u001b[39m\u001b[38;5;241m>\u001b[39m torch\u001b[38;5;241m.\u001b[39mTensor:\n\u001b[1;32m    229\u001b[0m     x_shape \u001b[38;5;241m=\u001b[39m (Nsims, \u001b[38;5;28mself\u001b[39m\u001b[38;5;241m.\u001b[39mNbins)\n\u001b[0;32m--> 230\u001b[0m     \u001b[38;5;28;01mreturn\u001b[39;00m torch\u001b[38;5;241m.\u001b[39mfrom_numpy(\u001b[43mnp\u001b[49m\u001b[38;5;241;43m.\u001b[39;49m\u001b[43mrandom\u001b[49m\u001b[38;5;241;43m.\u001b[39;49m\u001b[43mlognormal\u001b[49m\u001b[43m(\u001b[49m\u001b[43mmean\u001b[49m\u001b[38;5;241;43m=\u001b[39;49m\u001b[43mmu\u001b[49m\u001b[43m,\u001b[49m\u001b[43msigma\u001b[49m\u001b[38;5;241;43m=\u001b[39;49m\u001b[43mtorch\u001b[49m\u001b[38;5;241;43m.\u001b[39;49m\u001b[43msqrt\u001b[49m\u001b[43m(\u001b[49m\u001b[43mmu\u001b[49m\u001b[43m)\u001b[49m\u001b[43m,\u001b[49m\u001b[43msize\u001b[49m\u001b[38;5;241;43m=\u001b[39;49m\u001b[43mx_shape\u001b[49m\u001b[43m)\u001b[49m)\u001b[38;5;241m.\u001b[39mto(\u001b[38;5;28mself\u001b[39m\u001b[38;5;241m.\u001b[39mdtype)\n",
      "File \u001b[0;32mnumpy/random/mtrand.pyx:3098\u001b[0m, in \u001b[0;36mnumpy.random.mtrand.RandomState.lognormal\u001b[0;34m()\u001b[0m\n",
      "File \u001b[0;32mnumpy/random/_common.pyx:621\u001b[0m, in \u001b[0;36mnumpy.random._common.cont\u001b[0;34m()\u001b[0m\n",
      "File \u001b[0;32mnumpy/random/_common.pyx:538\u001b[0m, in \u001b[0;36mnumpy.random._common.cont_broadcast_2\u001b[0;34m()\u001b[0m\n",
      "File \u001b[0;32m../numpy/__init__.cython-30.pxd:831\u001b[0m, in \u001b[0;36mnumpy.PyArray_MultiIterNew3\u001b[0;34m()\u001b[0m\n",
      "\u001b[0;31mValueError\u001b[0m: shape mismatch: objects cannot be broadcast to a single shape.  Mismatch is between arg 0 with shape (1, 1000) and arg 1 with shape (2049,)."
     ]
    }
   ],
   "source": [
    "a = torch.from_numpy(np.load('base_PSD.npz')['psd'][1])\n",
    "test2 = Sim_FD_Additive(1000, 1,a, bounds=5, white=False)\n",
    "testsample2 = test2._sample(1)\n",
    "plt.loglog(np.squeeze(testsample2['x0']), alpha=0.8)\n",
    "plt.loglog(np.squeeze(testsample2['xi']), alpha=0.8)\n",
    "plt.loglog(np.squeeze(testsample2['ni']), alpha=0.8)"
   ]
  },
  {
   "cell_type": "code",
   "execution_count": 11,
   "id": "1afbdc11",
   "metadata": {},
   "outputs": [
    {
     "ename": "NameError",
     "evalue": "name 'test1' is not defined",
     "output_type": "error",
     "traceback": [
      "\u001b[0;31m---------------------------------------------------------------------------\u001b[0m",
      "\u001b[0;31mNameError\u001b[0m                                 Traceback (most recent call last)",
      "Cell \u001b[0;32mIn[11], line 1\u001b[0m\n\u001b[0;32m----> 1\u001b[0m plt\u001b[38;5;241m.\u001b[39mloglog(\u001b[43mtest1\u001b[49m\u001b[38;5;241m.\u001b[39mget_mu())\n",
      "\u001b[0;31mNameError\u001b[0m: name 'test1' is not defined"
     ]
    }
   ],
   "source": [
    "plt.loglog(test1.get_mu())"
   ]
  },
  {
   "cell_type": "code",
   "execution_count": 34,
   "id": "c73c46f6",
   "metadata": {},
   "outputs": [
    {
     "data": {
      "text/plain": [
       "5"
      ]
     },
     "execution_count": 34,
     "metadata": {},
     "output_type": "execute_result"
    }
   ],
   "source": [
    "test2.get_mu()"
   ]
  },
  {
   "cell_type": "code",
   "execution_count": null,
   "id": "91835075",
   "metadata": {},
   "outputs": [],
   "source": [
    "test = Sim_FD_Additive(1000, 1,None, bounds=5)\n",
    "test."
   ]
  },
  {
   "cell_type": "code",
   "execution_count": null,
   "id": "8aa78af8",
   "metadata": {},
   "outputs": [],
   "source": []
  }
 ],
 "metadata": {
  "kernelspec": {
   "display_name": "Python 3",
   "language": "python",
   "name": "python3"
  },
  "language_info": {
   "codemirror_mode": {
    "name": "ipython",
    "version": 3
   },
   "file_extension": ".py",
   "mimetype": "text/x-python",
   "name": "python",
   "nbconvert_exporter": "python",
   "pygments_lexer": "ipython3",
   "version": "3.13.1"
  }
 },
 "nbformat": 4,
 "nbformat_minor": 5
}
