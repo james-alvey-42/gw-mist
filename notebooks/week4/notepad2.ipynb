{
 "cells": [
  {
   "cell_type": "code",
   "execution_count": 1,
   "id": "80560d9e",
   "metadata": {},
   "outputs": [],
   "source": [
    "import sys\n",
    "sys.path.append('../../')\n",
    "from src.utils.comb import Comb3, Sim_FD_Additive\n",
    "test = Sim_FD_Additive(1000, 1,5)"
   ]
  },
  {
   "cell_type": "code",
   "execution_count": 4,
   "id": "6a298e31",
   "metadata": {},
   "outputs": [
    {
     "name": "stdout",
     "output_type": "stream",
     "text": [
      "The Shape of the bounds follows torch.Size([100, 1000]), torch.Size([100, 1000])\n"
     ]
    }
   ],
   "source": [
    "testsample = test._sample(100)"
   ]
  },
  {
   "cell_type": "code",
   "execution_count": null,
   "id": "d646599f",
   "metadata": {},
   "outputs": [],
   "source": [
    "test2 = "
   ]
  },
  {
   "cell_type": "code",
   "execution_count": null,
   "id": "1afbdc11",
   "metadata": {},
   "outputs": [],
   "source": []
  }
 ],
 "metadata": {
  "kernelspec": {
   "display_name": "Python 3",
   "language": "python",
   "name": "python3"
  },
  "language_info": {
   "codemirror_mode": {
    "name": "ipython",
    "version": 3
   },
   "file_extension": ".py",
   "mimetype": "text/x-python",
   "name": "python",
   "nbconvert_exporter": "python",
   "pygments_lexer": "ipython3",
   "version": "3.13.1"
  }
 },
 "nbformat": 4,
 "nbformat_minor": 5
}
