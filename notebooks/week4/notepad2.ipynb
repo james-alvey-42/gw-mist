{
 "cells": [
  {
   "cell_type": "code",
   "execution_count": 2,
   "id": "80560d9e",
   "metadata": {},
   "outputs": [],
   "source": [
    "import sys\n",
    "sys.path.append('../../')\n",
    "from src.utils.comb import Comb3, Sim_FD_Additive"
   ]
  },
  {
   "cell_type": "code",
   "execution_count": 3,
   "id": "13ea14b8",
   "metadata": {},
   "outputs": [
    {
     "ename": "NameError",
     "evalue": "name 'bkg' is not defined",
     "output_type": "error",
     "traceback": [
      "\u001b[0;31m---------------------------------------------------------------------------\u001b[0m",
      "\u001b[0;31mNameError\u001b[0m                                 Traceback (most recent call last)",
      "Cell \u001b[0;32mIn[3], line 1\u001b[0m\n\u001b[0;32m----> 1\u001b[0m test \u001b[38;5;241m=\u001b[39m \u001b[43mSim_FD_Additive\u001b[49m\u001b[43m(\u001b[49m\u001b[38;5;241;43m1000\u001b[39;49m\u001b[43m,\u001b[49m\u001b[43m \u001b[49m\u001b[38;5;241;43m1\u001b[39;49m\u001b[43m,\u001b[49m\u001b[38;5;241;43m5\u001b[39;49m\u001b[43m)\u001b[49m\n",
      "File \u001b[0;32m~/Documents/cambridge/gw-mist/notebooks/week4/../../src/utils/comb.py:213\u001b[0m, in \u001b[0;36mSim_FD_Additive.__init__\u001b[0;34m(self, Nbins, sigma, bounds, fraction, sample_fraction, white, device, dtype, PSD_file)\u001b[0m\n\u001b[1;32m    211\u001b[0m \u001b[38;5;28mself\u001b[39m\u001b[38;5;241m.\u001b[39msigma \u001b[38;5;241m=\u001b[39m sigma\n\u001b[1;32m    212\u001b[0m \u001b[38;5;28mself\u001b[39m\u001b[38;5;241m.\u001b[39msigbounds \u001b[38;5;241m=\u001b[39m bounds\n\u001b[0;32m--> 213\u001b[0m \u001b[38;5;28mself\u001b[39m\u001b[38;5;241m.\u001b[39mbkg \u001b[38;5;241m=\u001b[39m \u001b[43mbkg\u001b[49m\n\u001b[1;32m    214\u001b[0m \u001b[38;5;28mself\u001b[39m\u001b[38;5;241m.\u001b[39mfraction \u001b[38;5;241m=\u001b[39m fraction\n\u001b[1;32m    215\u001b[0m \u001b[38;5;28mself\u001b[39m\u001b[38;5;241m.\u001b[39msample_fraction \u001b[38;5;241m=\u001b[39m sample_fraction\n",
      "\u001b[0;31mNameError\u001b[0m: name 'bkg' is not defined"
     ]
    }
   ],
   "source": [
    "test = Sim_FD_Additive(1000, 1,5)"
   ]
  },
  {
   "cell_type": "code",
   "execution_count": null,
   "id": "6a298e31",
   "metadata": {},
   "outputs": [],
   "source": []
  }
 ],
 "metadata": {
  "kernelspec": {
   "display_name": "Python 3",
   "language": "python",
   "name": "python3"
  },
  "language_info": {
   "codemirror_mode": {
    "name": "ipython",
    "version": 3
   },
   "file_extension": ".py",
   "mimetype": "text/x-python",
   "name": "python",
   "nbconvert_exporter": "python",
   "pygments_lexer": "ipython3",
   "version": "3.13.1"
  }
 },
 "nbformat": 4,
 "nbformat_minor": 5
}
