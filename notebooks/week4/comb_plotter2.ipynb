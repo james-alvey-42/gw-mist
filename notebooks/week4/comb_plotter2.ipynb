{
 "cells": [
  {
   "cell_type": "code",
   "execution_count": 2,
   "id": "e027dcc6",
   "metadata": {},
   "outputs": [],
   "source": [
    "### - import all the usual stuff - ###\n",
    "\n",
    "import sys\n",
    "sys.path.append('../../mist-base/GW')\n",
    "sys.path.append('../../mist-base/')\n",
    "sys.path.append('../../mist-base/utils')\n",
    "sys.path.append('../../')\n",
    "\n",
    "from src.utils.comb import Comb3\n",
    "import gw150814_simulator as gs\n",
    "from gw150814_simulator import GW150814, defaults, GW150814_Additive\n",
    "# import module\n",
    "\n",
    "import torch\n",
    "torch.set_float32_matmul_precision('medium')\n",
    "import numpy as np\n",
    "import scipy\n",
    "from scipy.signal import welch\n",
    "from scipy.ndimage import uniform_filter1d\n",
    "import scipy.stats\n",
    "import pytorch_lightning as pl\n",
    "from collections import defaultdict\n",
    "from tqdm import tqdm\n",
    "import jax.numpy as jnp\n",
    "import plotfancy as pf\n",
    "pf.housestyle_rcparams()\n",
    "\n",
    "from gwosc.datasets import event_gps\n",
    "from gwpy.timeseries import TimeSeries\n",
    "\n",
    "from ipywidgets import interactive_output, VBox, HBox, FloatSlider, Checkbox, FloatLogSlider, FloatRangeSlider, FloatText, IntSlider\n",
    "import sounddevice as sd\n",
    "\n",
    "import matplotlib.pyplot as plt\n",
    "import matplotlib.ticker as ticker\n",
    "\n",
    "import os, sys\n",
    "\n",
    "from simulators.additive import Simulator_Additive\n",
    "from simulators.utils import *\n",
    "from utils.data import OnTheFlyDataModule, StoredDataModule\n",
    "from utils.module import CustomLossModule_withBounds, BCELossModule"
   ]
  },
  {
   "cell_type": "code",
   "execution_count": null,
   "id": "935b980d",
   "metadata": {},
   "outputs": [
    {
     "data": {
      "application/vnd.jupyter.widget-view+json": {
       "model_id": "06f4ff6f570e46fc919e101f24288f48",
       "version_major": 2,
       "version_minor": 0
      },
      "text/plain": [
       "VBox(children=(FloatSlider(value=25.0, description='df (Hz)', max=500.0, min=5.0, step=1.0), FloatSlider(value…"
      ]
     },
     "metadata": {},
     "output_type": "display_data"
    }
   ],
   "source": [
    "n_samples = 10000\n",
    "white_noise = np.random.uniform(low=-1.0, high=1.0, size=n_samples)\n",
    "white_noise_td = np.linspace(0,2,n_samples)\n",
    "\n",
    "def plot_comb(f0,df,nf,aps):\n",
    "\n",
    "    test = Comb3(white_noise,white_noise_td, inject=False, ampscale=aps)\n",
    "    test.inject_comb_known(white_noise,white_noise_td,f0,df,nf)\n",
    "\n",
    "    fig2, ax2 = pf.create_plot(size=(4,2))\n",
    "    ax2.plot(test.w_FD_freqs,test.w_FD_data, color='#77aca2')\n",
    "\n",
    "    ax3 = fig2.add_axes((0,-1,1,1), sharex=ax2)\n",
    "    ax3.plot(test.w_FD_freqs, test.i_FD_data, color='#ff004f')\n",
    "    ax3.plot(test.w_FD_freqs, test.w_FD_data, color='#77aca2')\n",
    "\n",
    "    ax3.set_xlabel('Frequency')\n",
    "    ax3.set_ylabel('Fourier Coeff')\n",
    "    ax3.yaxis.set_label_coords(-0.15,1)\n",
    "\n",
    "\n",
    "    ax4 = fig2.add_axes((1.3,-1,1,1))\n",
    "    ax4.set_xlabel('Time')\n",
    "    ax4.set_ylabel('Strain\\n(Comb Only)')\n",
    "\n",
    "    ax4.plot(test.w_TD_times,test.i_TD_data_comb, color='#ff004f')\n",
    "\n",
    "    ax5 = fig2.add_axes((1.3,0,1,1), sharex=ax4)\n",
    "    plt.setp(ax5.get_xticklabels(), visible=False)\n",
    "    ax5.plot(test.w_TD_times,test.i_TD_data, color='#5C2751')\n",
    "    ax5.set_ylabel('Strain\\n(Comb+Signal)')\n",
    "\n",
    "    pf.fix_plot([ax2,ax3,ax4,ax5])\n",
    "    plt.show()\n",
    "\n",
    "df_slider = FloatSlider(min=5, max=500, step=1, value=25, description='df (Hz)')\n",
    "f0_slider = FloatSlider(min=1, max=1500, step=1, value=50, description='f0 (Hz)')\n",
    "nf_slider = IntSlider(min=1, max=10, step=1, value=10, description='nf (count)')\n",
    "aps_slider = FloatLogSlider(min=0, max=2, step=0.1, value=10*2, description='comb amplitude')\n",
    "\n",
    "interactive_plot = interactive_output(\n",
    "    plot_comb, \n",
    "    {'df': df_slider, 'f0': f0_slider, 'nf': nf_slider, 'aps':aps_slider}\n",
    ")\n",
    "\n",
    "from IPython.display import display\n",
    "ui = VBox([df_slider, f0_slider, nf_slider,aps_slider, interactive_plot])\n",
    "display(ui)"
   ]
  }
 ],
 "metadata": {
  "kernelspec": {
   "display_name": "Python 3",
   "language": "python",
   "name": "python3"
  },
  "language_info": {
   "codemirror_mode": {
    "name": "ipython",
    "version": 3
   },
   "file_extension": ".py",
   "mimetype": "text/x-python",
   "name": "python",
   "nbconvert_exporter": "python",
   "pygments_lexer": "ipython3",
   "version": "3.13.1"
  }
 },
 "nbformat": 4,
 "nbformat_minor": 5
}
