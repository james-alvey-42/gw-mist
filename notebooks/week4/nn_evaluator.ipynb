{
 "cells": [
  {
   "cell_type": "code",
   "execution_count": 20,
   "id": "6150c931",
   "metadata": {},
   "outputs": [],
   "source": [
    "import sys\n",
    "sys.path.append('../../mist-base/GW')\n",
    "sys.path.append('../../mist-base/')\n",
    "sys.path.append('../../mist-base/utils')\n",
    "sys.path.append('../../')\n",
    "\n",
    "import gw150814_simulator as gs\n",
    "from src.utils.comb import Comb3, Comb3_Torch\n",
    "from gw150814_simulator import GW150814_Additive\n",
    "# import module\n",
    "\n",
    "import torch\n",
    "import numpy as np\n",
    "import scipy\n",
    "import scipy.stats\n",
    "import pytorch_lightning as pl\n",
    "from tqdm import tqdm\n",
    "import plotfancy as pf\n",
    "pf.housestyle_rcparams()\n",
    "\n",
    "import matplotlib.pyplot as plt\n",
    "\n",
    "import os, sys\n",
    "\n",
    "from simulators.additive import Simulator_Additive\n",
    "from simulators.utils import *\n",
    "from utils.data import OnTheFlyDataModule, StoredDataModule\n",
    "from utils.module import CustomLossModule_withBounds, BCELossModule\n",
    "\n",
    "mycolors = ['#77aca2', '#ff004f', '#f98e08']\n",
    "# device = torch.device('mps') if torch.backends.mps.is_available() else torch.device('cpu')\n"
   ]
  },
  {
   "cell_type": "code",
   "execution_count": 21,
   "id": "cad1633f",
   "metadata": {},
   "outputs": [],
   "source": [
    "class Network_Comb(torch.nn.Module):\n",
    "    def __init__(self, n_bins):\n",
    "        super().__init__()\n",
    "        self.online_norm = OnlineStandardizingLayer((n_bins,), use_average_std=True)\n",
    "        self.net = ResidualNet(1, 1, 128) # 1 input channel, 1 output channel, 128 hidden features\n",
    "        self.logvariance = torch.nn.Parameter(torch.ones(n_bins)*5)\n",
    "\n",
    "    def epsilon(self, x):\n",
    "        x = self.online_norm(x)\n",
    "        x = self.net(x.unsqueeze(1)).squeeze(1)\n",
    "        return x\n",
    "    \n",
    "    def epsilon(self, x):\n",
    "        x = self.online_norm(x)\n",
    "        x = self.net(x.unsqueeze(1)).squeeze(1)\n",
    "        return x\n",
    "    \n",
    "    def snr(self, x):\n",
    "        return self.epsilon(x) / self.logvariance.exp().sqrt()  # [B, N_bins]\n",
    "    \n",
    "    def bounds(self):\n",
    "        return self.logvariance.detach().exp().sqrt().mean(-1) * 5\n",
    "        \n",
    "    def forward(self, x):\n",
    "\n",
    "        data = x['xi']\n",
    "        # epsilon_real = x['epsilon']\n",
    "        epsilon_sim =  (2 * self.bounds() * torch.rand(x['xi'].shape, device= x['xi'].device, dtype= x['xi'].dtype) - self.bounds()) * x['ni']\n",
    "\n",
    "        epsilon = self.epsilon(data)\n",
    "        mask = ( x['ni'] != 0 )  \n",
    "        squared_error = (epsilon - epsilon_sim)**2                                                                    # [B, N_bins]\n",
    "        l = squared_error / (self.logvariance.exp() + 1e-10) + self.logvariance                     # [B, N_bins]\n",
    "        return (l * mask.float()).sum() * 0.5\n",
    "\n",
    "class Network_SNR(torch.nn.Module):\n",
    "        def __init__(self):\n",
    "            super().__init__()\n",
    "            \n",
    "            self.online_norm = OnlineStandardizingLayer((Nbins,), use_average_std=True) \n",
    "            self.net = ResidualNet(1, 1, 128)\n",
    "            self.logvariance = torch.nn.Parameter(torch.ones(Nbins)*5)\n",
    "                    \n",
    "        def epsilon(self, x):\n",
    "            x = self.online_norm(x)\n",
    "            x = self.net(x.unsqueeze(1)).squeeze(1)\n",
    "            return x\n",
    "        \n",
    "        def snr(self, x):\n",
    "            return self.epsilon(x) / self.logvariance.exp().sqrt()  # [B, N_bins]\n",
    "        \n",
    "        def bounds(self):\n",
    "            return self.logvariance.detach().exp().sqrt().mean(-1) * 5\n",
    "            \n",
    "        def forward(self, x):\n",
    "            \n",
    "            # Adaptive data generation\n",
    "            ni = x['ni']\n",
    "            epsilon_sim =  (2 * self.bounds() * torch.rand(x['x'].shape, device= x['x'].device, dtype= x['x'].dtype) - self.bounds()) * ni\n",
    "            data =  x['x0'] + epsilon_sim * ni\n",
    "\n",
    "            epsilon = self.epsilon(data)\n",
    "            mask = ( x['ni'] != 0 )  \n",
    "            squared_error = (epsilon - epsilon_sim)**2                                                                    # [B, N_bins]\n",
    "            l = squared_error / (self.logvariance.exp() + 1e-10) + self.logvariance                     # [B, N_bins]\n",
    "            return (l * mask.float()).sum() * 0.5\n"
   ]
  },
  {
   "cell_type": "markdown",
   "id": "a09c422c",
   "metadata": {},
   "source": [
    "## Evaluating The Network\n",
    "\n",
    "First start with a sanity check using some parity plots"
   ]
  },
  {
   "cell_type": "code",
   "execution_count": 23,
   "id": "7b0d64bf",
   "metadata": {},
   "outputs": [
    {
     "name": "stdout",
     "output_type": "stream",
     "text": [
      "Loading data for H1 at GPS time 1126259462.4\n",
      "Loading PSD for H1 at GPS time 1126259462.4 [can take O(1 min)]\n",
      "Loading posterior samples from ../../mist-base/GW/GW150814_posterior_samples.npz\n"
     ]
    }
   ],
   "source": [
    "network = torch.load('out/long_uc_model', weights_only=False, map_location=torch.device('cpu'))\n",
    "network_epsilon = torch.load('out/long_uc_network', weights_only=False,  map_location=torch.device('cpu'))\n",
    "Nbins = 1000\n",
    "SIGMA = 1\n",
    "\n",
    "gen_samples = np.load('FD_samples.npz')\n",
    "gw150814_post = torch.tensor(gen_samples['waveform'])\n",
    "gw150814_noise = torch.tensor(gen_samples['noise'])\n",
    "gw150814_samples = {'mu': gw150814_post, 'noise': gw150814_noise}\n",
    "simulator = GW150814_Additive(\n",
    "    gw150814_samples=gw150814_samples, \n",
    "    bounds=2, \n",
    "    dtype=torch.float64,\n",
    "    fraction = 0.5\n",
    ") "
   ]
  },
  {
   "cell_type": "code",
   "execution_count": 25,
   "id": "119e0b25",
   "metadata": {},
   "outputs": [
    {
     "ename": "NameError",
     "evalue": "name 'fit' is not defined",
     "output_type": "error",
     "traceback": [
      "\u001b[0;31m---------------------------------------------------------------------------\u001b[0m",
      "\u001b[0;31mNameError\u001b[0m                                 Traceback (most recent call last)",
      "Cell \u001b[0;32mIn[25], line 6\u001b[0m\n\u001b[1;32m      4\u001b[0m obs \u001b[38;5;241m=\u001b[39m simulator\u001b[38;5;241m.\u001b[39msample(\u001b[38;5;241m1\u001b[39m)  \n\u001b[1;32m      5\u001b[0m \u001b[38;5;66;03m# fit = best_fit(obs['xi'][0], simulator)\u001b[39;00m\n\u001b[0;32m----> 6\u001b[0m delta_x \u001b[38;5;241m=\u001b[39m (obs[\u001b[38;5;124m'\u001b[39m\u001b[38;5;124mxi\u001b[39m\u001b[38;5;124m'\u001b[39m] \u001b[38;5;241m-\u001b[39m \u001b[43mfit\u001b[49m)\u001b[38;5;241m.\u001b[39mto(dtype\u001b[38;5;241m=\u001b[39mtorch\u001b[38;5;241m.\u001b[39mfloat32)\n\u001b[1;32m      8\u001b[0m \u001b[38;5;66;03m######### - 2 - ###########\u001b[39;00m\n\u001b[1;32m     10\u001b[0m ni \u001b[38;5;241m=\u001b[39m torch\u001b[38;5;241m.\u001b[39meye(Nbins, dtype\u001b[38;5;241m=\u001b[39mobs[\u001b[38;5;124m'\u001b[39m\u001b[38;5;124mxi\u001b[39m\u001b[38;5;124m'\u001b[39m]\u001b[38;5;241m.\u001b[39mdtype)\n",
      "\u001b[0;31mNameError\u001b[0m: name 'fit' is not defined"
     ]
    }
   ],
   "source": [
    "\n",
    "######### - 1 - ###########\n",
    "\n",
    "n = 50\n",
    "obs = simulator.sample(1)  \n",
    "# fit = best_fit(obs['xi'][0], simulator)\n",
    "delta_x = (obs['xi'] - fit).to(dtype=torch.float32)\n",
    "\n",
    "######### - 2 - ###########\n",
    "\n",
    "ni = torch.eye(Nbins, dtype=obs['xi'].dtype)\n",
    "\n",
    "# epsilon_nn_obs = network_epsilon.epsilon(delta_x.cuda()).detach().cpu().numpy().squeeze(0)\n",
    "epsilon_nn_obs = network_epsilon.epsilon(delta_x.to(dtype=torch.float32,device='mps')).detach().cpu().numpy().squeeze(0)\n",
    "variance_nn_obs = network_epsilon.logvariance.exp().detach().cpu().numpy()\n",
    "# snr_nn_obs = network_epsilon.snr(delta_x.cuda()).detach().cpu().numpy().squeeze(0)\n",
    "snr_nn_obs = network_epsilon.snr(delta_x.to(dtype=torch.float32,device='mps')).detach().cpu().numpy().squeeze(0)\n",
    "\n",
    "epsilon_obs = get_epsilon(delta_x, ni).squeeze(0)\n",
    "variance_obs = 1 / get_sigma_epsilon_inv2(ni)\n",
    "snr_obs = get_snr(delta_x, ni).squeeze(0)\n",
    "\n",
    "######### - 3 - ###########\n",
    "\n",
    "fig, ax1 = pf.create_plot(size=(4,3))\n",
    "ax2 = fig.add_axes((1.3,0,1,1))\n",
    "ax3 = fig.add_axes((2.6,0,1,1))\n",
    "axs = [ax1,ax2,ax3]\n",
    "\n",
    "axs[0].scatter(x=epsilon_obs, y=epsilon_nn_obs, c='C1', s=30, marker='o',linewidths=0.4, alpha=0.7)\n",
    "axs[1].scatter(x=variance_obs, y=variance_nn_obs, c='C1', s=30, marker='o',linewidths=0.4, alpha=0.7)\n",
    "axs[2].scatter(x=snr_obs, y=snr_nn_obs, c='C1', s=30, marker='o',linewidths=0.4, alpha=0.7)    \n",
    "\n",
    "idx = torch.where(obs['ni']==1)[1]\n",
    "axs[0].scatter(x=epsilon_obs[idx], y=epsilon_nn_obs[idx], c='C0', s=50, marker='x',linewidths=2)\n",
    "axs[1].scatter(x=variance_obs[idx], y=variance_nn_obs[idx], c='C0', s=50, marker='x',linewidths=2)\n",
    "axs[2].scatter(x=snr_obs[idx], y=snr_nn_obs[idx], c='C0', s=50, marker='x',linewidths=2)   \n",
    "\n",
    "\n",
    "axs[0].set_xlabel(r'$\\epsilon$ true')\n",
    "axs[0].set_ylabel(r'$\\epsilon$ NN')\n",
    "axs[1].set_xlabel(r'$\\sigma^2$ true')\n",
    "axs[1].set_ylabel(r'$\\sigma^2$ NN')\n",
    "axs[2].set_xlabel('SNR True')\n",
    "axs[2].set_ylabel('SNR NN')\n",
    "pf.fix_plot(axs)\n",
    "plt.tight_layout();"
   ]
  },
  {
   "cell_type": "code",
   "execution_count": 35,
   "id": "7c5db9fc",
   "metadata": {},
   "outputs": [
    {
     "data": {
      "text/plain": [
       "[<matplotlib.lines.Line2D at 0x33dfdb9d0>]"
      ]
     },
     "execution_count": 35,
     "metadata": {},
     "output_type": "execute_result"
    },
    {
     "data": {
      "image/png": "[encoded data removed]",
      "text/plain": [
       "<Figure size 640x480 with 1 Axes>"
      ]
     },
     "metadata": {},
     "output_type": "display_data"
    }
   ],
   "source": [
    "obs = simulator.sample(1)  \n",
    "obs['x0']\n",
    "plt.plot(np.squeeze((obs['x0']-obs['epsilon'])))"
   ]
  },
  {
   "cell_type": "code",
   "execution_count": 40,
   "id": "227b6210",
   "metadata": {},
   "outputs": [
    {
     "data": {
      "text/plain": [
       "[<matplotlib.lines.Line2D at 0x35a95a710>]"
      ]
     },
     "execution_count": 40,
     "metadata": {},
     "output_type": "execute_result"
    },
    {
     "data": {
      "image/png": "[encoded data removed]",
      "text/plain": [
       "<Figure size 640x480 with 1 Axes>"
      ]
     },
     "metadata": {},
     "output_type": "display_data"
    }
   ],
   "source": [
    "plt.plot(simulator.sample(1)['ni'].squeeze())"
   ]
  },
  {
   "cell_type": "code",
   "execution_count": null,
   "id": "6c4f5772",
   "metadata": {},
   "outputs": [],
   "source": []
  }
 ],
 "metadata": {
  "kernelspec": {
   "display_name": "Python 3",
   "language": "python",
   "name": "python3"
  },
  "language_info": {
   "codemirror_mode": {
    "name": "ipython",
    "version": 3
   },
   "file_extension": ".py",
   "mimetype": "text/x-python",
   "name": "python",
   "nbconvert_exporter": "python",
   "pygments_lexer": "ipython3",
   "version": "3.13.1"
  }
 },
 "nbformat": 4,
 "nbformat_minor": 5
}
