{
 "cells": [
  {
   "cell_type": "code",
   "execution_count": 1,
   "id": "83aa3d7a",
   "metadata": {},
   "outputs": [],
   "source": [
    "import os\n",
    "os.environ['XLA_PYTHON_CLIENT_PREALLOCATE'] = 'false'\n",
    "\n",
    "import multiprocessing as mp\n",
    "mp.set_start_method(\"spawn\", force=True)\n",
    "\n",
    "import torch\n",
    "torch.set_float32_matmul_precision('medium')\n",
    "import numpy as np\n",
    "import pytorch_lightning as pl\n",
    "from tqdm import tqdm\n",
    "import plotfancy as pf\n",
    "import matplotlib.pyplot as plt\n",
    "pf.housestyle_rcparams()\n",
    "\n",
    "import sys\n",
    "sys.path.append('../../mist-base/GW')\n",
    "sys.path.append('../../mist-base/')\n",
    "sys.path.append('../../mist-base/utils')\n",
    "sys.path.append('../../')\n",
    "\n",
    "from src.utils.generators import Simulator_Additive\n",
    "from simulators.utils import *\n",
    "from utils.data import OnTheFlyDataModule\n",
    "from utils.module import CustomLossModule_withBounds\n",
    "\n",
    "mycolors = ['#570f6d', \"#9e8f92\", '#f98e08']\n",
    "folly = '#ff004f'"
   ]
  },
  {
   "cell_type": "code",
   "execution_count": 2,
   "id": "bb04cdcc",
   "metadata": {},
   "outputs": [],
   "source": [
    "import gw150814_simulator as gs"
   ]
  },
  {
   "cell_type": "code",
   "execution_count": 6,
   "id": "63bb5e3e",
   "metadata": {},
   "outputs": [
    {
     "name": "stdout",
     "output_type": "stream",
     "text": [
      "Loading data for H1 at GPS time 1126259462.4\n",
      "Loading PSD for H1 at GPS time 1126259462.4 [can take O(1 min)]\n",
      "Loading posterior samples from ../../mist-base/GW/GW150814_posterior_samples.npz\n"
     ]
    }
   ],
   "source": [
    "gw_simulator = gs.GW150814()"
   ]
  },
  {
   "cell_type": "code",
   "execution_count": null,
   "id": "8511da18",
   "metadata": {},
   "outputs": [],
   "source": [
    "#### PLOT OF PLAIN GW SIGNAL ####\n",
    "\n",
    "fig, ax1 = pf.create_plot()\n",
    "\n",
    "\n",
    "#### PLOT OF JUST WHITENED \n"
   ]
  },
  {
   "cell_type": "code",
   "execution_count": null,
   "id": "0803630c",
   "metadata": {},
   "outputs": [],
   "source": []
  }
 ],
 "metadata": {
  "kernelspec": {
   "display_name": "Python 3",
   "language": "python",
   "name": "python3"
  },
  "language_info": {
   "codemirror_mode": {
    "name": "ipython",
    "version": 3
   },
   "file_extension": ".py",
   "mimetype": "text/x-python",
   "name": "python",
   "nbconvert_exporter": "python",
   "pygments_lexer": "ipython3",
   "version": "3.13.1"
  }
 },
 "nbformat": 4,
 "nbformat_minor": 5
}
