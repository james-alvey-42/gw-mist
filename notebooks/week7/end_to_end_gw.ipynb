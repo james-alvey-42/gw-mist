{
 "cells": [
  {
   "cell_type": "code",
   "execution_count": 2,
   "id": "3291fca8",
   "metadata": {},
   "outputs": [],
   "source": [
    "import torch\n",
    "torch.set_float32_matmul_precision('medium')\n",
    "import numpy as np\n",
    "import scipy\n",
    "import pytorch_lightning as pl\n",
    "from tqdm import tqdm\n",
    "import plotfancy as pf\n",
    "import matplotlib.pyplot as plt\n",
    "from scipy.interpolate import interp1d\n",
    "pf.housestyle_rcparams()\n",
    "\n",
    "import os, sys\n",
    "sys.path.append('../../mist-base/GW')\n",
    "sys.path.append('../../mist-base/')\n",
    "sys.path.append('../../mist-base/utils')\n",
    "sys.path.append('../../')\n",
    "\n",
    "import gw150814_simulator as gs\n",
    "from src.utils.generators import Simulator_Additive\n",
    "from simulators.utils import *\n",
    "from utils.data import OnTheFlyDataModule, StoredDataModule\n",
    "from utils.module import CustomLossModule_withBounds, BCELossModule\n",
    "\n",
    "from scipy.stats import gaussian_kde\n",
    "\n",
    "import logging\n",
    "\n",
    "mycolors = ['#570f6d', \"#9e8f92\", '#f98e08']\n",
    "folly = '#ff004f'"
   ]
  },
  {
   "cell_type": "code",
   "execution_count": 5,
   "id": "1619b217",
   "metadata": {},
   "outputs": [
    {
     "name": "stdout",
     "output_type": "stream",
     "text": [
      "Loading data for H1 at GPS time 1126259462.4\n",
      "Loading PSD for H1 at GPS time 1126259462.4 [can take O(1 min)]\n",
      "Loading posterior samples from ../../mist-base/GW/GW150814_posterior_samples.npz\n"
     ]
    }
   ],
   "source": [
    "ss  = np.load('../../mist-base/GW/GW150814_posterior_samples.npz')\n",
    "simulator = gs.GW150814_Additive(gw150814_samples=ss)"
   ]
  },
  {
   "cell_type": "code",
   "execution_count": 6,
   "id": "71e4a3a6",
   "metadata": {},
   "outputs": [
    {
     "ename": "KeyError",
     "evalue": "'mu is not a file in the archive'",
     "output_type": "error",
     "traceback": [
      "\u001b[31m---------------------------------------------------------------------------\u001b[39m",
      "\u001b[31mKeyError\u001b[39m                                  Traceback (most recent call last)",
      "\u001b[36mCell\u001b[39m\u001b[36m \u001b[39m\u001b[32mIn[6]\u001b[39m\u001b[32m, line 1\u001b[39m\n\u001b[32m----> \u001b[39m\u001b[32m1\u001b[39m obs = \u001b[43msimulator\u001b[49m\u001b[43m.\u001b[49m\u001b[43msample\u001b[49m\u001b[43m(\u001b[49m\u001b[32;43m1\u001b[39;49m\u001b[43m)\u001b[49m\n",
      "\u001b[36mFile \u001b[39m\u001b[32m/data/tgh35/summer25/gw-mist/notebooks/week7/../../mist-base/GW/gw150814_simulator.py:389\u001b[39m, in \u001b[36mGW150814_Additive.sample\u001b[39m\u001b[34m(self, Nsims, show_progress)\u001b[39m\n\u001b[32m    387\u001b[39m     samples_list = [\u001b[38;5;28mself\u001b[39m._sample() \u001b[38;5;28;01mfor\u001b[39;00m _ \u001b[38;5;129;01min\u001b[39;00m tqdm(\u001b[38;5;28mrange\u001b[39m(Nsims))]\n\u001b[32m    388\u001b[39m \u001b[38;5;28;01melse\u001b[39;00m:  \n\u001b[32m--> \u001b[39m\u001b[32m389\u001b[39m     samples_list = \u001b[43m[\u001b[49m\u001b[38;5;28;43mself\u001b[39;49m\u001b[43m.\u001b[49m\u001b[43m_sample\u001b[49m\u001b[43m(\u001b[49m\u001b[43m)\u001b[49m\u001b[43m \u001b[49m\u001b[38;5;28;43;01mfor\u001b[39;49;00m\u001b[43m \u001b[49m\u001b[43m_\u001b[49m\u001b[43m \u001b[49m\u001b[38;5;129;43;01min\u001b[39;49;00m\u001b[43m \u001b[49m\u001b[38;5;28;43mrange\u001b[39;49m\u001b[43m(\u001b[49m\u001b[43mNsims\u001b[49m\u001b[43m)\u001b[49m\u001b[43m]\u001b[49m\n\u001b[32m    390\u001b[39m samples_dict = defaultdict(\u001b[38;5;28mlist\u001b[39m)\n\u001b[32m    391\u001b[39m \u001b[38;5;28;01mfor\u001b[39;00m d \u001b[38;5;129;01min\u001b[39;00m samples_list:\n",
      "\u001b[36mFile \u001b[39m\u001b[32m/data/tgh35/summer25/gw-mist/notebooks/week7/../../mist-base/GW/gw150814_simulator.py:389\u001b[39m, in \u001b[36m<listcomp>\u001b[39m\u001b[34m(.0)\u001b[39m\n\u001b[32m    387\u001b[39m     samples_list = [\u001b[38;5;28mself\u001b[39m._sample() \u001b[38;5;28;01mfor\u001b[39;00m _ \u001b[38;5;129;01min\u001b[39;00m tqdm(\u001b[38;5;28mrange\u001b[39m(Nsims))]\n\u001b[32m    388\u001b[39m \u001b[38;5;28;01melse\u001b[39;00m:  \n\u001b[32m--> \u001b[39m\u001b[32m389\u001b[39m     samples_list = [\u001b[38;5;28;43mself\u001b[39;49m\u001b[43m.\u001b[49m\u001b[43m_sample\u001b[49m\u001b[43m(\u001b[49m\u001b[43m)\u001b[49m \u001b[38;5;28;01mfor\u001b[39;00m _ \u001b[38;5;129;01min\u001b[39;00m \u001b[38;5;28mrange\u001b[39m(Nsims)]\n\u001b[32m    390\u001b[39m samples_dict = defaultdict(\u001b[38;5;28mlist\u001b[39m)\n\u001b[32m    391\u001b[39m \u001b[38;5;28;01mfor\u001b[39;00m d \u001b[38;5;129;01min\u001b[39;00m samples_list:\n",
      "\u001b[36mFile \u001b[39m\u001b[32m/data/tgh35/summer25/gw-mist/notebooks/week7/../../mist-base/GW/gw150814_simulator.py:369\u001b[39m, in \u001b[36mGW150814_Additive._sample\u001b[39m\u001b[34m(self)\u001b[39m\n\u001b[32m    368\u001b[39m \u001b[38;5;28;01mdef\u001b[39;00m\u001b[38;5;250m \u001b[39m\u001b[34m_sample\u001b[39m(\u001b[38;5;28mself\u001b[39m) -> \u001b[38;5;28mdict\u001b[39m:\n\u001b[32m--> \u001b[39m\u001b[32m369\u001b[39m     mu = \u001b[38;5;28;43mself\u001b[39;49m\u001b[43m.\u001b[49m\u001b[43mget_mu\u001b[49m\u001b[43m(\u001b[49m\u001b[43m)\u001b[49m\n\u001b[32m    370\u001b[39m     x0 = \u001b[38;5;28mself\u001b[39m.get_x_H0(mu)\n\u001b[32m    371\u001b[39m     ni = \u001b[38;5;28mself\u001b[39m.get_ni(x0)\n",
      "\u001b[36mFile \u001b[39m\u001b[32m/data/tgh35/summer25/gw-mist/notebooks/week7/../../mist-base/GW/gw150814_simulator.py:311\u001b[39m, in \u001b[36mGW150814_Additive.get_mu\u001b[39m\u001b[34m(self)\u001b[39m\n\u001b[32m    310\u001b[39m \u001b[38;5;28;01mdef\u001b[39;00m\u001b[38;5;250m \u001b[39m\u001b[34mget_mu\u001b[39m(\u001b[38;5;28mself\u001b[39m) -> torch.Tensor:\n\u001b[32m--> \u001b[39m\u001b[32m311\u001b[39m     idx = \u001b[38;5;28mself\u001b[39m.mu_rng.integers(\u001b[32m0\u001b[39m, \u001b[38;5;28;43mself\u001b[39;49m\u001b[43m.\u001b[49m\u001b[43mgw150814_samples\u001b[49m\u001b[43m[\u001b[49m\u001b[33;43m'\u001b[39;49m\u001b[33;43mmu\u001b[39;49m\u001b[33;43m'\u001b[39;49m\u001b[43m]\u001b[49m.shape[\u001b[32m0\u001b[39m])\n\u001b[32m    312\u001b[39m     \u001b[38;5;28;01mreturn\u001b[39;00m (\u001b[38;5;28mself\u001b[39m.gw150814_samples[\u001b[33m'\u001b[39m\u001b[33mmu\u001b[39m\u001b[33m'\u001b[39m][idx]).to(\u001b[38;5;28mself\u001b[39m.device, \u001b[38;5;28mself\u001b[39m.dtype)\n",
      "\u001b[36mFile \u001b[39m\u001b[32m/data/tgh35/summer25/cam_venv/lib/python3.11/site-packages/numpy/lib/_npyio_impl.py:243\u001b[39m, in \u001b[36mNpzFile.__getitem__\u001b[39m\u001b[34m(self, key)\u001b[39m\n\u001b[32m    241\u001b[39m     key = \u001b[38;5;28mself\u001b[39m._files[key]\n\u001b[32m    242\u001b[39m \u001b[38;5;28;01mexcept\u001b[39;00m \u001b[38;5;167;01mKeyError\u001b[39;00m:\n\u001b[32m--> \u001b[39m\u001b[32m243\u001b[39m     \u001b[38;5;28;01mraise\u001b[39;00m \u001b[38;5;167;01mKeyError\u001b[39;00m(\u001b[33mf\u001b[39m\u001b[33m\"\u001b[39m\u001b[38;5;132;01m{\u001b[39;00mkey\u001b[38;5;132;01m}\u001b[39;00m\u001b[33m is not a file in the archive\u001b[39m\u001b[33m\"\u001b[39m) \u001b[38;5;28;01mfrom\u001b[39;00m\u001b[38;5;250m \u001b[39m\u001b[38;5;28;01mNone\u001b[39;00m\n\u001b[32m    244\u001b[39m \u001b[38;5;28;01melse\u001b[39;00m:\n\u001b[32m    245\u001b[39m     \u001b[38;5;28;01mwith\u001b[39;00m \u001b[38;5;28mself\u001b[39m.zip.open(key) \u001b[38;5;28;01mas\u001b[39;00m \u001b[38;5;28mbytes\u001b[39m:\n",
      "\u001b[31mKeyError\u001b[39m: 'mu is not a file in the archive'"
     ]
    }
   ],
   "source": [
    "obs = simulator.sample(1)"
   ]
  },
  {
   "cell_type": "code",
   "execution_count": 7,
   "id": "638d3229",
   "metadata": {},
   "outputs": [
    {
     "data": {
      "text/plain": [
       "<bound method NpzFile.keys of NpzFile '../../mist-base/GW/GW150814_posterior_samples.npz' with keys: M_c, d_L, dec, iota, phase_c...>"
      ]
     },
     "execution_count": 7,
     "metadata": {},
     "output_type": "execute_result"
    }
   ],
   "source": [
    "ss.keys"
   ]
  },
  {
   "cell_type": "code",
   "execution_count": null,
   "id": "3b049a11",
   "metadata": {},
   "outputs": [],
   "source": []
  }
 ],
 "metadata": {
  "kernelspec": {
   "display_name": "cam_venv (3.11.0)",
   "language": "python",
   "name": "python3"
  },
  "language_info": {
   "codemirror_mode": {
    "name": "ipython",
    "version": 3
   },
   "file_extension": ".py",
   "mimetype": "text/x-python",
   "name": "python",
   "nbconvert_exporter": "python",
   "pygments_lexer": "ipython3",
   "version": "3.11.0"
  }
 },
 "nbformat": 4,
 "nbformat_minor": 5
}
