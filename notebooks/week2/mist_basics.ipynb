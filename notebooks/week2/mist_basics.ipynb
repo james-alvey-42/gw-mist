{
 "cells": [
  {
   "cell_type": "code",
   "execution_count": 10,
   "id": "564e61d7-04eb-4903-8df7-a40e726c663d",
   "metadata": {},
   "outputs": [],
   "source": [
    "import sys\n",
    "sys.path.append('../../mist-base/GW')\n",
    "sys.path.append('../../mist-base/')\n",
    "\n",
    "import gw150814_simulator as gs\n",
    "import module\n",
    "\n",
    "import torch\n",
    "import numpy as np\n",
    "import scipy\n",
    "import pytorch_lightning as pl\n",
    "from tqdm import tqdm\n",
    "\n",
    "import matplotlib.pyplot as plt\n",
    "\n",
    "import os, sys\n",
    "sys.path.append(\"../\")\n",
    "from simulators.additive import Simulator_Additive\n",
    "from simulators.utils import *\n",
    "from utils.data import OnTheFlyDataModule, StoredDataModule\n",
    "from utils.module import CustomLossModule_withBounds, BCELossModule"
   ]
  },
  {
   "cell_type": "code",
   "execution_count": null,
   "id": "53b16d7b-0651-4ca1-80c6-a9cf6b538fda",
   "metadata": {},
   "outputs": [],
   "source": []
  }
 ],
 "metadata": {
  "kernelspec": {
   "display_name": "Python 3 (ipykernel)",
   "language": "python",
   "name": "python3"
  },
  "language_info": {
   "codemirror_mode": {
    "name": "ipython",
    "version": 3
   },
   "file_extension": ".py",
   "mimetype": "text/x-python",
   "name": "python",
   "nbconvert_exporter": "python",
   "pygments_lexer": "ipython3",
   "version": "3.13.1"
  }
 },
 "nbformat": 4,
 "nbformat_minor": 5
}
